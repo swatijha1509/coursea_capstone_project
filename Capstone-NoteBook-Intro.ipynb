{
    "cells": [
        {
            "cell_type": "markdown",
            "metadata": {},
            "source": "<b>Clustering Assignment</b><br>\nRequirements\nFor this assignment, you will be required to explore and cluster the neighborhoods in Toronto."
        },
        {
            "cell_type": "markdown",
            "metadata": {},
            "source": "Preprocessing"
        },
        {
            "cell_type": "code",
            "execution_count": 5,
            "metadata": {},
            "outputs": [
                {
                    "name": "stdout",
                    "output_type": "stream",
                    "text": "Libraries imported.\n"
                }
            ],
            "source": "import numpy as np # library to handle data in a vectorized manner\nimport pandas as pd # library for data analsysis\nimport requests # Library for web scraping\n\nprint('Libraries imported.')"
        },
        {
            "cell_type": "code",
            "execution_count": 6,
            "metadata": {},
            "outputs": [
                {
                    "name": "stdout",
                    "output_type": "stream",
                    "text": "BeautifulSoup  & csv imported.\n"
                }
            ],
            "source": "# To run this, you can install BeautifulSoup\n# https://pypi.python.org/pypi/beautifulsoup4\n\n# Or download the file\n# http://beautiful-soup-4\n# and unzip it in the same directory as this file\nimport requests\nfrom urllib.request import urlopen\nfrom bs4 import BeautifulSoup\nimport ssl\nimport csv\n\nprint('BeautifulSoup  & csv imported.')"
        },
        {
            "cell_type": "markdown",
            "metadata": {},
            "source": "\nProcessing-part-1: extracting raw table (from webpage)"
        },
        {
            "cell_type": "code",
            "execution_count": 7,
            "metadata": {},
            "outputs": [
                {
                    "name": "stdout",
                    "output_type": "stream",
                    "text": "SSL certificate errors ignored.\n"
                }
            ],
            "source": "# Ignore SSL certificate errors\nctx = ssl.create_default_context()\nctx.check_hostname = False\nctx.verify_mode = ssl.CERT_NONE\n\nprint('SSL certificate errors ignored.')"
        },
        {
            "cell_type": "code",
            "execution_count": 8,
            "metadata": {},
            "outputs": [
                {
                    "name": "stdout",
                    "output_type": "stream",
                    "text": "soup ready\n"
                }
            ],
            "source": "source = requests.get('https://en.wikipedia.org/wiki/List_of_postal_codes_of_Canada:_M').text\n\nsoup = BeautifulSoup(source, 'lxml')\n\n#print(soup.prettify())\nprint('soup ready')"
        },
        {
            "cell_type": "code",
            "execution_count": 9,
            "metadata": {},
            "outputs": [],
            "source": "table = soup.find('table',{'class':'wikitable sortable'})\n#table"
        },
        {
            "cell_type": "code",
            "execution_count": 10,
            "metadata": {},
            "outputs": [],
            "source": "table_rows = table.find_all('tr')\n\n#table_rows"
        },
        {
            "cell_type": "code",
            "execution_count": 11,
            "metadata": {},
            "outputs": [
                {
                    "name": "stdout",
                    "output_type": "stream",
                    "text": "  PostalCode           Borough               Neighbourhood\n1        M1A      Not assigned                            \n2        M2A      Not assigned                            \n3        M3A        North York                   Parkwoods\n4        M4A        North York            Victoria Village\n5        M5A  Downtown Toronto  Regent Park / Harbourfront\n***\n    PostalCode       Borough  \\\n176        M5Z  Not assigned   \n177        M6Z  Not assigned   \n178        M7Z  Not assigned   \n179        M8Z     Etobicoke   \n180        M9Z  Not assigned   \n\n                                         Neighbourhood  \n176                                                     \n177                                                     \n178                                                     \n179  Mimico NW / The Queensway West / South of Bloo...  \n180                                                     \n"
                }
            ],
            "source": "data = []\nfor row in table_rows:\n    data.append([t.text.strip() for t in row.find_all('td')])\n\ndf = pd.DataFrame(data, columns=['PostalCode', 'Borough', 'Neighbourhood'])\ndf = df[~df['PostalCode'].isnull()]  # to filter out bad rows\n\nprint(df.head(5))\nprint('***')\nprint(df.tail(5))"
        },
        {
            "cell_type": "code",
            "execution_count": 12,
            "metadata": {},
            "outputs": [
                {
                    "name": "stdout",
                    "output_type": "stream",
                    "text": "<class 'pandas.core.frame.DataFrame'>\nInt64Index: 180 entries, 1 to 180\nData columns (total 3 columns):\nPostalCode       180 non-null object\nBorough          180 non-null object\nNeighbourhood    180 non-null object\ndtypes: object(3)\nmemory usage: 5.6+ KB\n"
                }
            ],
            "source": "df.info()"
        },
        {
            "cell_type": "code",
            "execution_count": 13,
            "metadata": {},
            "outputs": [
                {
                    "data": {
                        "text/plain": "(180, 3)"
                    },
                    "execution_count": 13,
                    "metadata": {},
                    "output_type": "execute_result"
                }
            ],
            "source": "df.shape"
        },
        {
            "cell_type": "code",
            "execution_count": 14,
            "metadata": {},
            "outputs": [
                {
                    "data": {
                        "text/html": "<div>\n<style scoped>\n    .dataframe tbody tr th:only-of-type {\n        vertical-align: middle;\n    }\n\n    .dataframe tbody tr th {\n        vertical-align: top;\n    }\n\n    .dataframe thead th {\n        text-align: right;\n    }\n</style>\n<table border=\"1\" class=\"dataframe\">\n  <thead>\n    <tr style=\"text-align: right;\">\n      <th></th>\n      <th>PostalCode</th>\n      <th>Borough</th>\n      <th>Neighbourhood</th>\n    </tr>\n  </thead>\n  <tbody>\n    <tr>\n      <th>1</th>\n      <td>M1A</td>\n      <td>Not assigned</td>\n      <td></td>\n    </tr>\n    <tr>\n      <th>2</th>\n      <td>M2A</td>\n      <td>Not assigned</td>\n      <td></td>\n    </tr>\n    <tr>\n      <th>3</th>\n      <td>M3A</td>\n      <td>North York</td>\n      <td>Parkwoods</td>\n    </tr>\n    <tr>\n      <th>4</th>\n      <td>M4A</td>\n      <td>North York</td>\n      <td>Victoria Village</td>\n    </tr>\n    <tr>\n      <th>5</th>\n      <td>M5A</td>\n      <td>Downtown Toronto</td>\n      <td>Regent Park / Harbourfront</td>\n    </tr>\n    <tr>\n      <th>6</th>\n      <td>M6A</td>\n      <td>North York</td>\n      <td>Lawrence Manor / Lawrence Heights</td>\n    </tr>\n    <tr>\n      <th>7</th>\n      <td>M7A</td>\n      <td>Downtown Toronto</td>\n      <td>Queen's Park / Ontario Provincial Government</td>\n    </tr>\n    <tr>\n      <th>8</th>\n      <td>M8A</td>\n      <td>Not assigned</td>\n      <td></td>\n    </tr>\n    <tr>\n      <th>9</th>\n      <td>M9A</td>\n      <td>Etobicoke</td>\n      <td>Islington Avenue</td>\n    </tr>\n    <tr>\n      <th>10</th>\n      <td>M1B</td>\n      <td>Scarborough</td>\n      <td>Malvern / Rouge</td>\n    </tr>\n    <tr>\n      <th>11</th>\n      <td>M2B</td>\n      <td>Not assigned</td>\n      <td></td>\n    </tr>\n    <tr>\n      <th>12</th>\n      <td>M3B</td>\n      <td>North York</td>\n      <td>Don Mills</td>\n    </tr>\n    <tr>\n      <th>13</th>\n      <td>M4B</td>\n      <td>East York</td>\n      <td>Parkview Hill / Woodbine Gardens</td>\n    </tr>\n    <tr>\n      <th>14</th>\n      <td>M5B</td>\n      <td>Downtown Toronto</td>\n      <td>Garden District / Ryerson</td>\n    </tr>\n    <tr>\n      <th>15</th>\n      <td>M6B</td>\n      <td>North York</td>\n      <td>Glencairn</td>\n    </tr>\n  </tbody>\n</table>\n</div>",
                        "text/plain": "   PostalCode           Borough                                 Neighbourhood\n1         M1A      Not assigned                                              \n2         M2A      Not assigned                                              \n3         M3A        North York                                     Parkwoods\n4         M4A        North York                              Victoria Village\n5         M5A  Downtown Toronto                    Regent Park / Harbourfront\n6         M6A        North York             Lawrence Manor / Lawrence Heights\n7         M7A  Downtown Toronto  Queen's Park / Ontario Provincial Government\n8         M8A      Not assigned                                              \n9         M9A         Etobicoke                              Islington Avenue\n10        M1B       Scarborough                               Malvern / Rouge\n11        M2B      Not assigned                                              \n12        M3B        North York                                     Don Mills\n13        M4B         East York              Parkview Hill / Woodbine Gardens\n14        M5B  Downtown Toronto                     Garden District / Ryerson\n15        M6B        North York                                     Glencairn"
                    },
                    "execution_count": 14,
                    "metadata": {},
                    "output_type": "execute_result"
                }
            ],
            "source": "import pandas\nimport requests\nfrom bs4 import BeautifulSoup\nwebsite_text = requests.get('https://en.wikipedia.org/wiki/List_of_postal_codes_of_Canada:_M').text\nsoup = BeautifulSoup(website_text,'lxml')\n\ntable = soup.find('table',{'class':'wikitable sortable'})\ntable_rows = table.find_all('tr')\n\ndata = []\nfor row in table_rows:\n    data.append([t.text.strip() for t in row.find_all('td')])\n\ndf = pandas.DataFrame(data, columns=['PostalCode', 'Borough', 'Neighbourhood'])\ndf = df[~df['PostalCode'].isnull()]  # to filter out bad rows\n\ndf.head(15)"
        },
        {
            "cell_type": "code",
            "execution_count": 15,
            "metadata": {},
            "outputs": [
                {
                    "data": {
                        "text/html": "<div>\n<style scoped>\n    .dataframe tbody tr th:only-of-type {\n        vertical-align: middle;\n    }\n\n    .dataframe tbody tr th {\n        vertical-align: top;\n    }\n\n    .dataframe thead th {\n        text-align: right;\n    }\n</style>\n<table border=\"1\" class=\"dataframe\">\n  <thead>\n    <tr style=\"text-align: right;\">\n      <th></th>\n      <th>PostalCode</th>\n      <th>Borough</th>\n      <th>Neighbourhood</th>\n    </tr>\n  </thead>\n  <tbody>\n    <tr>\n      <th>3</th>\n      <td>M3A</td>\n      <td>North York</td>\n      <td>Parkwoods</td>\n    </tr>\n    <tr>\n      <th>4</th>\n      <td>M4A</td>\n      <td>North York</td>\n      <td>Victoria Village</td>\n    </tr>\n    <tr>\n      <th>5</th>\n      <td>M5A</td>\n      <td>Downtown Toronto</td>\n      <td>Regent Park / Harbourfront</td>\n    </tr>\n    <tr>\n      <th>6</th>\n      <td>M6A</td>\n      <td>North York</td>\n      <td>Lawrence Manor / Lawrence Heights</td>\n    </tr>\n    <tr>\n      <th>7</th>\n      <td>M7A</td>\n      <td>Downtown Toronto</td>\n      <td>Queen's Park / Ontario Provincial Government</td>\n    </tr>\n  </tbody>\n</table>\n</div>",
                        "text/plain": "  PostalCode           Borough                                 Neighbourhood\n3        M3A        North York                                     Parkwoods\n4        M4A        North York                              Victoria Village\n5        M5A  Downtown Toronto                    Regent Park / Harbourfront\n6        M6A        North York             Lawrence Manor / Lawrence Heights\n7        M7A  Downtown Toronto  Queen's Park / Ontario Provincial Government"
                    },
                    "execution_count": 15,
                    "metadata": {},
                    "output_type": "execute_result"
                }
            ],
            "source": "df.drop(df[df['Borough']==\"Not assigned\"].index,axis=0, inplace=True)\ndf.head()"
        },
        {
            "cell_type": "code",
            "execution_count": 16,
            "metadata": {},
            "outputs": [
                {
                    "data": {
                        "text/html": "<div>\n<style scoped>\n    .dataframe tbody tr th:only-of-type {\n        vertical-align: middle;\n    }\n\n    .dataframe tbody tr th {\n        vertical-align: top;\n    }\n\n    .dataframe thead th {\n        text-align: right;\n    }\n</style>\n<table border=\"1\" class=\"dataframe\">\n  <thead>\n    <tr style=\"text-align: right;\">\n      <th></th>\n      <th>index</th>\n      <th>PostalCode</th>\n      <th>Borough</th>\n      <th>Neighbourhood</th>\n    </tr>\n  </thead>\n  <tbody>\n    <tr>\n      <th>0</th>\n      <td>3</td>\n      <td>M3A</td>\n      <td>North York</td>\n      <td>Parkwoods</td>\n    </tr>\n    <tr>\n      <th>1</th>\n      <td>4</td>\n      <td>M4A</td>\n      <td>North York</td>\n      <td>Victoria Village</td>\n    </tr>\n    <tr>\n      <th>2</th>\n      <td>5</td>\n      <td>M5A</td>\n      <td>Downtown Toronto</td>\n      <td>Regent Park / Harbourfront</td>\n    </tr>\n    <tr>\n      <th>3</th>\n      <td>6</td>\n      <td>M6A</td>\n      <td>North York</td>\n      <td>Lawrence Manor / Lawrence Heights</td>\n    </tr>\n    <tr>\n      <th>4</th>\n      <td>7</td>\n      <td>M7A</td>\n      <td>Downtown Toronto</td>\n      <td>Queen's Park / Ontario Provincial Government</td>\n    </tr>\n  </tbody>\n</table>\n</div>",
                        "text/plain": "   index PostalCode           Borough  \\\n0      3        M3A        North York   \n1      4        M4A        North York   \n2      5        M5A  Downtown Toronto   \n3      6        M6A        North York   \n4      7        M7A  Downtown Toronto   \n\n                                  Neighbourhood  \n0                                     Parkwoods  \n1                              Victoria Village  \n2                    Regent Park / Harbourfront  \n3             Lawrence Manor / Lawrence Heights  \n4  Queen's Park / Ontario Provincial Government  "
                    },
                    "execution_count": 16,
                    "metadata": {},
                    "output_type": "execute_result"
                }
            ],
            "source": "df1 = df.reset_index()\ndf1.head()"
        },
        {
            "cell_type": "code",
            "execution_count": 17,
            "metadata": {},
            "outputs": [
                {
                    "name": "stdout",
                    "output_type": "stream",
                    "text": "<class 'pandas.core.frame.DataFrame'>\nRangeIndex: 103 entries, 0 to 102\nData columns (total 4 columns):\nindex            103 non-null int64\nPostalCode       103 non-null object\nBorough          103 non-null object\nNeighbourhood    103 non-null object\ndtypes: int64(1), object(3)\nmemory usage: 3.3+ KB\n"
                }
            ],
            "source": "df1.info()"
        },
        {
            "cell_type": "code",
            "execution_count": 18,
            "metadata": {},
            "outputs": [
                {
                    "data": {
                        "text/plain": "(103, 4)"
                    },
                    "execution_count": 18,
                    "metadata": {},
                    "output_type": "execute_result"
                }
            ],
            "source": "df1.shape"
        },
        {
            "cell_type": "code",
            "execution_count": 19,
            "metadata": {},
            "outputs": [
                {
                    "data": {
                        "text/html": "<div>\n<style scoped>\n    .dataframe tbody tr th:only-of-type {\n        vertical-align: middle;\n    }\n\n    .dataframe tbody tr th {\n        vertical-align: top;\n    }\n\n    .dataframe thead th {\n        text-align: right;\n    }\n</style>\n<table border=\"1\" class=\"dataframe\">\n  <thead>\n    <tr style=\"text-align: right;\">\n      <th></th>\n      <th>Borough</th>\n      <th>Neighbourhood</th>\n    </tr>\n    <tr>\n      <th>PostalCode</th>\n      <th></th>\n      <th></th>\n    </tr>\n  </thead>\n  <tbody>\n    <tr>\n      <th>M1B</th>\n      <td>Scarborough</td>\n      <td>Malvern / Rouge</td>\n    </tr>\n    <tr>\n      <th>M1C</th>\n      <td>Scarborough</td>\n      <td>Rouge Hill / Port Union / Highland Creek</td>\n    </tr>\n    <tr>\n      <th>M1E</th>\n      <td>Scarborough</td>\n      <td>Guildwood / Morningside / West Hill</td>\n    </tr>\n    <tr>\n      <th>M1G</th>\n      <td>Scarborough</td>\n      <td>Woburn</td>\n    </tr>\n    <tr>\n      <th>M1H</th>\n      <td>Scarborough</td>\n      <td>Cedarbrae</td>\n    </tr>\n  </tbody>\n</table>\n</div>",
                        "text/plain": "                Borough                             Neighbourhood\nPostalCode                                                       \nM1B         Scarborough                           Malvern / Rouge\nM1C         Scarborough  Rouge Hill / Port Union / Highland Creek\nM1E         Scarborough       Guildwood / Morningside / West Hill\nM1G         Scarborough                                    Woburn\nM1H         Scarborough                                 Cedarbrae"
                    },
                    "execution_count": 19,
                    "metadata": {},
                    "output_type": "execute_result"
                }
            ],
            "source": "df2= df1.groupby('PostalCode').agg(lambda x: ','.join(x))\ndf2.head()"
        },
        {
            "cell_type": "code",
            "execution_count": 20,
            "metadata": {},
            "outputs": [
                {
                    "data": {
                        "text/html": "<div>\n<style scoped>\n    .dataframe tbody tr th:only-of-type {\n        vertical-align: middle;\n    }\n\n    .dataframe tbody tr th {\n        vertical-align: top;\n    }\n\n    .dataframe thead th {\n        text-align: right;\n    }\n</style>\n<table border=\"1\" class=\"dataframe\">\n  <thead>\n    <tr style=\"text-align: right;\">\n      <th></th>\n      <th>Borough</th>\n      <th>Neighbourhood</th>\n    </tr>\n    <tr>\n      <th>PostalCode</th>\n      <th></th>\n      <th></th>\n    </tr>\n  </thead>\n  <tbody>\n    <tr>\n      <th>M1B</th>\n      <td>Scarborough</td>\n      <td>Malvern / Rouge</td>\n    </tr>\n    <tr>\n      <th>M1C</th>\n      <td>Scarborough</td>\n      <td>Rouge Hill / Port Union / Highland Creek</td>\n    </tr>\n    <tr>\n      <th>M1E</th>\n      <td>Scarborough</td>\n      <td>Guildwood / Morningside / West Hill</td>\n    </tr>\n    <tr>\n      <th>M1G</th>\n      <td>Scarborough</td>\n      <td>Woburn</td>\n    </tr>\n    <tr>\n      <th>M1H</th>\n      <td>Scarborough</td>\n      <td>Cedarbrae</td>\n    </tr>\n  </tbody>\n</table>\n</div>",
                        "text/plain": "                Borough                             Neighbourhood\nPostalCode                                                       \nM1B         Scarborough                           Malvern / Rouge\nM1C         Scarborough  Rouge Hill / Port Union / Highland Creek\nM1E         Scarborough       Guildwood / Morningside / West Hill\nM1G         Scarborough                                    Woburn\nM1H         Scarborough                                 Cedarbrae"
                    },
                    "execution_count": 20,
                    "metadata": {},
                    "output_type": "execute_result"
                }
            ],
            "source": "df2.loc[df2['Neighbourhood']==\"Not assigned\",'Neighbourhood']=df2.loc[df2['Neighbourhood']==\"Not assigned\",'Borough']\n\ndf2.head()"
        },
        {
            "cell_type": "code",
            "execution_count": 21,
            "metadata": {},
            "outputs": [
                {
                    "data": {
                        "text/html": "<div>\n<style scoped>\n    .dataframe tbody tr th:only-of-type {\n        vertical-align: middle;\n    }\n\n    .dataframe tbody tr th {\n        vertical-align: top;\n    }\n\n    .dataframe thead th {\n        text-align: right;\n    }\n</style>\n<table border=\"1\" class=\"dataframe\">\n  <thead>\n    <tr style=\"text-align: right;\">\n      <th></th>\n      <th>PostalCode</th>\n      <th>Borough</th>\n      <th>Neighbourhood</th>\n    </tr>\n  </thead>\n  <tbody>\n    <tr>\n      <th>0</th>\n      <td>M1B</td>\n      <td>Scarborough</td>\n      <td>Malvern / Rouge</td>\n    </tr>\n    <tr>\n      <th>1</th>\n      <td>M1C</td>\n      <td>Scarborough</td>\n      <td>Rouge Hill / Port Union / Highland Creek</td>\n    </tr>\n    <tr>\n      <th>2</th>\n      <td>M1E</td>\n      <td>Scarborough</td>\n      <td>Guildwood / Morningside / West Hill</td>\n    </tr>\n    <tr>\n      <th>3</th>\n      <td>M1G</td>\n      <td>Scarborough</td>\n      <td>Woburn</td>\n    </tr>\n    <tr>\n      <th>4</th>\n      <td>M1H</td>\n      <td>Scarborough</td>\n      <td>Cedarbrae</td>\n    </tr>\n  </tbody>\n</table>\n</div>",
                        "text/plain": "  PostalCode      Borough                             Neighbourhood\n0        M1B  Scarborough                           Malvern / Rouge\n1        M1C  Scarborough  Rouge Hill / Port Union / Highland Creek\n2        M1E  Scarborough       Guildwood / Morningside / West Hill\n3        M1G  Scarborough                                    Woburn\n4        M1H  Scarborough                                 Cedarbrae"
                    },
                    "execution_count": 21,
                    "metadata": {},
                    "output_type": "execute_result"
                }
            ],
            "source": "df3 = df2.reset_index()\ndf3.head()\n"
        },
        {
            "cell_type": "code",
            "execution_count": 22,
            "metadata": {
                "scrolled": true
            },
            "outputs": [
                {
                    "data": {
                        "text/html": "<div>\n<style scoped>\n    .dataframe tbody tr th:only-of-type {\n        vertical-align: middle;\n    }\n\n    .dataframe tbody tr th {\n        vertical-align: top;\n    }\n\n    .dataframe thead th {\n        text-align: right;\n    }\n</style>\n<table border=\"1\" class=\"dataframe\">\n  <thead>\n    <tr style=\"text-align: right;\">\n      <th></th>\n      <th>PostalCode</th>\n      <th>Borough</th>\n      <th>Neighbourhood</th>\n    </tr>\n  </thead>\n  <tbody>\n    <tr>\n      <th>0</th>\n      <td>M1B</td>\n      <td>Scarborough</td>\n      <td>Malvern / Rouge</td>\n    </tr>\n    <tr>\n      <th>1</th>\n      <td>M1C</td>\n      <td>Scarborough</td>\n      <td>Rouge Hill / Port Union / Highland Creek</td>\n    </tr>\n    <tr>\n      <th>2</th>\n      <td>M1E</td>\n      <td>Scarborough</td>\n      <td>Guildwood / Morningside / West Hill</td>\n    </tr>\n    <tr>\n      <th>3</th>\n      <td>M1G</td>\n      <td>Scarborough</td>\n      <td>Woburn</td>\n    </tr>\n    <tr>\n      <th>4</th>\n      <td>M1H</td>\n      <td>Scarborough</td>\n      <td>Cedarbrae</td>\n    </tr>\n    <tr>\n      <th>5</th>\n      <td>M1J</td>\n      <td>Scarborough</td>\n      <td>Scarborough Village</td>\n    </tr>\n    <tr>\n      <th>6</th>\n      <td>M1K</td>\n      <td>Scarborough</td>\n      <td>Kennedy Park / Ionview / East Birchmount Park</td>\n    </tr>\n    <tr>\n      <th>7</th>\n      <td>M1L</td>\n      <td>Scarborough</td>\n      <td>Golden Mile / Clairlea / Oakridge</td>\n    </tr>\n    <tr>\n      <th>8</th>\n      <td>M1M</td>\n      <td>Scarborough</td>\n      <td>Cliffside / Cliffcrest / Scarborough Village West</td>\n    </tr>\n    <tr>\n      <th>9</th>\n      <td>M1N</td>\n      <td>Scarborough</td>\n      <td>Birch Cliff / Cliffside West</td>\n    </tr>\n    <tr>\n      <th>10</th>\n      <td>M1P</td>\n      <td>Scarborough</td>\n      <td>Dorset Park / Wexford Heights / Scarborough To...</td>\n    </tr>\n    <tr>\n      <th>11</th>\n      <td>M1R</td>\n      <td>Scarborough</td>\n      <td>Wexford / Maryvale</td>\n    </tr>\n  </tbody>\n</table>\n</div>",
                        "text/plain": "   PostalCode      Borough                                      Neighbourhood\n0         M1B  Scarborough                                    Malvern / Rouge\n1         M1C  Scarborough           Rouge Hill / Port Union / Highland Creek\n2         M1E  Scarborough                Guildwood / Morningside / West Hill\n3         M1G  Scarborough                                             Woburn\n4         M1H  Scarborough                                          Cedarbrae\n5         M1J  Scarborough                                Scarborough Village\n6         M1K  Scarborough      Kennedy Park / Ionview / East Birchmount Park\n7         M1L  Scarborough                  Golden Mile / Clairlea / Oakridge\n8         M1M  Scarborough  Cliffside / Cliffcrest / Scarborough Village West\n9         M1N  Scarborough                       Birch Cliff / Cliffside West\n10        M1P  Scarborough  Dorset Park / Wexford Heights / Scarborough To...\n11        M1R  Scarborough                                 Wexford / Maryvale"
                    },
                    "execution_count": 22,
                    "metadata": {},
                    "output_type": "execute_result"
                }
            ],
            "source": "df3['Borough']= df3['Borough'].str.replace('nan|[{}\\s]','').str.split(',').apply(set).str.join(',').str.strip(',').str.replace(\",{2,}\",\",\")\ndf3.head(12)"
        },
        {
            "cell_type": "code",
            "execution_count": 23,
            "metadata": {},
            "outputs": [],
            "source": "df_geopy1 = df3"
        },
        {
            "cell_type": "code",
            "execution_count": 24,
            "metadata": {},
            "outputs": [
                {
                    "data": {
                        "text/plain": "(103, 3)"
                    },
                    "execution_count": 24,
                    "metadata": {},
                    "output_type": "execute_result"
                }
            ],
            "source": "df_geopy1.shape"
        },
        {
            "cell_type": "code",
            "execution_count": 25,
            "metadata": {},
            "outputs": [
                {
                    "name": "stdout",
                    "output_type": "stream",
                    "text": "<class 'pandas.core.frame.DataFrame'>\nInt64Index: 103 entries, 0 to 102\nData columns (total 3 columns):\nPostalCode       103 non-null object\nBorough          103 non-null object\nNeighbourhood    103 non-null object\ndtypes: object(3)\nmemory usage: 3.2+ KB\n"
                }
            ],
            "source": "df_geopy1.drop(df_geopy1[df_geopy1['Borough']==\"Notassigned\"].index,axis=0, inplace=True)\n#df_geopy1\n# code holds true up until i=102\ndf_geopy1.info()"
        },
        {
            "cell_type": "code",
            "execution_count": 26,
            "metadata": {},
            "outputs": [
                {
                    "name": "stderr",
                    "output_type": "stream",
                    "text": "/opt/conda/envs/Python36/lib/python3.6/site-packages/ipykernel/__main__.py:2: DeprecationWarning: Using Nominatim with the default \"geopy/1.21.0\" `user_agent` is strongly discouraged, as it violates Nominatim's ToS https://operations.osmfoundation.org/policies/nominatim/ and may possibly cause 403 and 429 HTTP errors. Please specify a custom `user_agent` with `Nominatim(user_agent=\"my-application\")` or by overriding the default `user_agent`: `geopy.geocoders.options.default_user_agent = \"my-application\"`. In geopy 2.0 this will become an exception.\n  from ipykernel import kernelapp as app\n"
                }
            ],
            "source": "from  geopy.geocoders import Nominatim\ngeolocator = Nominatim()\nlocation = geolocator.geocode(\"M1G, Scarborough, Woburn\")\n\n\n#print(location.address)\n\n#print((location.latitude, location.longitude))\n\n#print(location.raw)"
        },
        {
            "cell_type": "code",
            "execution_count": 3,
            "metadata": {},
            "outputs": [
                {
                    "name": "stdout",
                    "output_type": "stream",
                    "text": "Collecting geocoder\n\u001b[?25l  Downloading https://files.pythonhosted.org/packages/4f/6b/13166c909ad2f2d76b929a4227c952630ebaf0d729f6317eb09cbceccbab/geocoder-1.38.1-py2.py3-none-any.whl (98kB)\n\u001b[K     |\u2588\u2588\u2588\u2588\u2588\u2588\u2588\u2588\u2588\u2588\u2588\u2588\u2588\u2588\u2588\u2588\u2588\u2588\u2588\u2588\u2588\u2588\u2588\u2588\u2588\u2588\u2588\u2588\u2588\u2588\u2588\u2588| 102kB 11.1MB/s ta 0:00:01\n\u001b[?25hRequirement already satisfied: future in /opt/conda/envs/Python36/lib/python3.6/site-packages (from geocoder) (0.17.1)\nCollecting ratelim (from geocoder)\n  Downloading https://files.pythonhosted.org/packages/f2/98/7e6d147fd16a10a5f821db6e25f192265d6ecca3d82957a4fdd592cad49c/ratelim-0.1.6-py2.py3-none-any.whl\nRequirement already satisfied: requests in /opt/conda/envs/Python36/lib/python3.6/site-packages (from geocoder) (2.21.0)\nRequirement already satisfied: six in /opt/conda/envs/Python36/lib/python3.6/site-packages (from geocoder) (1.12.0)\nRequirement already satisfied: click in /opt/conda/envs/Python36/lib/python3.6/site-packages (from geocoder) (7.0)\nRequirement already satisfied: decorator in /opt/conda/envs/Python36/lib/python3.6/site-packages (from ratelim->geocoder) (4.3.2)\nRequirement already satisfied: chardet<3.1.0,>=3.0.2 in /opt/conda/envs/Python36/lib/python3.6/site-packages (from requests->geocoder) (3.0.4)\nRequirement already satisfied: urllib3<1.25,>=1.21.1 in /opt/conda/envs/Python36/lib/python3.6/site-packages (from requests->geocoder) (1.24.1)\nRequirement already satisfied: idna<2.9,>=2.5 in /opt/conda/envs/Python36/lib/python3.6/site-packages (from requests->geocoder) (2.8)\nRequirement already satisfied: certifi>=2017.4.17 in /opt/conda/envs/Python36/lib/python3.6/site-packages (from requests->geocoder) (2020.4.5.1)\nInstalling collected packages: ratelim, geocoder\nSuccessfully installed geocoder-1.38.1 ratelim-0.1.6\n"
                }
            ],
            "source": "!pip install geocoder"
        },
        {
            "cell_type": "code",
            "execution_count": 27,
            "metadata": {},
            "outputs": [
                {
                    "name": "stdout",
                    "output_type": "stream",
                    "text": "latitude is :- 51.5073219 \nlongtitude is:- -0.1276474\n"
                },
                {
                    "name": "stderr",
                    "output_type": "stream",
                    "text": "/opt/conda/envs/Python36/lib/python3.6/site-packages/ipykernel/__main__.py:2: DeprecationWarning: Using Nominatim with the default \"geopy/1.21.0\" `user_agent` is strongly discouraged, as it violates Nominatim's ToS https://operations.osmfoundation.org/policies/nominatim/ and may possibly cause 403 and 429 HTTP errors. Please specify a custom `user_agent` with `Nominatim(user_agent=\"my-application\")` or by overriding the default `user_agent`: `geopy.geocoders.options.default_user_agent = \"my-application\"`. In geopy 2.0 this will become an exception.\n  from ipykernel import kernelapp as app\n"
                }
            ],
            "source": "from  geopy.geocoders import Nominatim\ngeolocator = Nominatim()\ncity =\"London\"\ncountry =\"Uk\"\nloc = geolocator.geocode(city+','+ country)\nprint(\"latitude is :-\" ,loc.latitude,\"\\nlongtitude is:-\" ,loc.longitude)"
        },
        {
            "cell_type": "code",
            "execution_count": 28,
            "metadata": {},
            "outputs": [
                {
                    "name": "stdout",
                    "output_type": "stream",
                    "text": "Parkwoods Village Drive, Parkway East, Don Valley East, North York, Toronto, Golden Horseshoe, Ontario, M3A 2X2, Canada\n\n(43.7587999, -79.3201966)\n\n{'place_id': 124974741, 'licence': 'Data \u00a9 OpenStreetMap contributors, ODbL 1.0. https://osm.org/copyright', 'osm_type': 'way', 'osm_id': 160406961, 'boundingbox': ['43.7576231', '43.761106', '-79.3239088', '-79.316215'], 'lat': '43.7587999', 'lon': '-79.3201966', 'display_name': 'Parkwoods Village Drive, Parkway East, Don Valley East, North York, Toronto, Golden Horseshoe, Ontario, M3A 2X2, Canada', 'class': 'highway', 'type': 'secondary', 'importance': 0.51}\n"
                },
                {
                    "name": "stderr",
                    "output_type": "stream",
                    "text": "/opt/conda/envs/Python36/lib/python3.6/site-packages/ipykernel/__main__.py:2: DeprecationWarning: Using Nominatim with the default \"geopy/1.21.0\" `user_agent` is strongly discouraged, as it violates Nominatim's ToS https://operations.osmfoundation.org/policies/nominatim/ and may possibly cause 403 and 429 HTTP errors. Please specify a custom `user_agent` with `Nominatim(user_agent=\"my-application\")` or by overriding the default `user_agent`: `geopy.geocoders.options.default_user_agent = \"my-application\"`. In geopy 2.0 this will become an exception.\n  from ipykernel import kernelapp as app\n"
                }
            ],
            "source": "from  geopy.geocoders import Nominatim\ngeolocator = Nominatim()\nlocation = geolocator.geocode(\"Toronto, North York, Parkwoods\")\n\nprint(location.address)\nprint('')\nprint((location.latitude, location.longitude))\nprint('')\nprint(location.raw)"
        },
        {
            "cell_type": "code",
            "execution_count": 29,
            "metadata": {},
            "outputs": [
                {
                    "name": "stderr",
                    "output_type": "stream",
                    "text": "/opt/conda/envs/Python36/lib/python3.6/site-packages/ipykernel/__main__.py:7: DeprecationWarning: Using Nominatim with the default \"geopy/1.21.0\" `user_agent` is strongly discouraged, as it violates Nominatim's ToS https://operations.osmfoundation.org/policies/nominatim/ and may possibly cause 403 and 429 HTTP errors. Please specify a custom `user_agent` with `Nominatim(user_agent=\"my-application\")` or by overriding the default `user_agent`: `geopy.geocoders.options.default_user_agent = \"my-application\"`. In geopy 2.0 this will become an exception.\n"
                }
            ],
            "source": "import pandas as pd\ndf_geopy = pd.DataFrame({'PostalCode': ['M3A', 'M4A', 'M5A'],\n                         'Borough': ['North York', 'North York', 'Downtown Toronto'],\n                         'Neighbourhood': ['Parkwoods', 'Victoria Village', 'Harbourfront'],})\n\nfrom geopy.geocoders import Nominatim\ngeolocator = Nominatim()"
        },
        {
            "cell_type": "code",
            "execution_count": 31,
            "metadata": {},
            "outputs": [
                {
                    "data": {
                        "text/html": "<div>\n<style scoped>\n    .dataframe tbody tr th:only-of-type {\n        vertical-align: middle;\n    }\n\n    .dataframe tbody tr th {\n        vertical-align: top;\n    }\n\n    .dataframe thead th {\n        text-align: right;\n    }\n</style>\n<table border=\"1\" class=\"dataframe\">\n  <thead>\n    <tr style=\"text-align: right;\">\n      <th></th>\n      <th>PostalCode</th>\n      <th>Borough</th>\n      <th>Neighbourhood</th>\n    </tr>\n  </thead>\n  <tbody>\n    <tr>\n      <th>0</th>\n      <td>M1B</td>\n      <td>Scarborough</td>\n      <td>Malvern / Rouge</td>\n    </tr>\n    <tr>\n      <th>1</th>\n      <td>M1C</td>\n      <td>Scarborough</td>\n      <td>Rouge Hill / Port Union / Highland Creek</td>\n    </tr>\n    <tr>\n      <th>2</th>\n      <td>M1E</td>\n      <td>Scarborough</td>\n      <td>Guildwood / Morningside / West Hill</td>\n    </tr>\n    <tr>\n      <th>3</th>\n      <td>M1G</td>\n      <td>Scarborough</td>\n      <td>Woburn</td>\n    </tr>\n    <tr>\n      <th>4</th>\n      <td>M1H</td>\n      <td>Scarborough</td>\n      <td>Cedarbrae</td>\n    </tr>\n  </tbody>\n</table>\n</div>",
                        "text/plain": "  PostalCode      Borough                             Neighbourhood\n0        M1B  Scarborough                           Malvern / Rouge\n1        M1C  Scarborough  Rouge Hill / Port Union / Highland Creek\n2        M1E  Scarborough       Guildwood / Morningside / West Hill\n3        M1G  Scarborough                                    Woburn\n4        M1H  Scarborough                                 Cedarbrae"
                    },
                    "execution_count": 31,
                    "metadata": {},
                    "output_type": "execute_result"
                }
            ],
            "source": "df_geopy1 = df3\ndf_geopy1.head()"
        },
        {
            "cell_type": "code",
            "execution_count": 32,
            "metadata": {},
            "outputs": [
                {
                    "name": "stderr",
                    "output_type": "stream",
                    "text": "/opt/conda/envs/Python36/lib/python3.6/site-packages/ipykernel/__main__.py:2: DeprecationWarning: Using Nominatim with the default \"geopy/1.21.0\" `user_agent` is strongly discouraged, as it violates Nominatim's ToS https://operations.osmfoundation.org/policies/nominatim/ and may possibly cause 403 and 429 HTTP errors. Please specify a custom `user_agent` with `Nominatim(user_agent=\"my-application\")` or by overriding the default `user_agent`: `geopy.geocoders.options.default_user_agent = \"my-application\"`. In geopy 2.0 this will become an exception.\n  from ipykernel import kernelapp as app\n"
                },
                {
                    "data": {
                        "text/html": "<div>\n<style scoped>\n    .dataframe tbody tr th:only-of-type {\n        vertical-align: middle;\n    }\n\n    .dataframe tbody tr th {\n        vertical-align: top;\n    }\n\n    .dataframe thead th {\n        text-align: right;\n    }\n</style>\n<table border=\"1\" class=\"dataframe\">\n  <thead>\n    <tr style=\"text-align: right;\">\n      <th></th>\n      <th>PostalCode</th>\n      <th>Borough</th>\n      <th>Neighbourhood</th>\n      <th>address</th>\n    </tr>\n  </thead>\n  <tbody>\n    <tr>\n      <th>0</th>\n      <td>M1B</td>\n      <td>Scarborough</td>\n      <td>Malvern / Rouge</td>\n      <td>M1B, Scarborough, Malvern / Rouge</td>\n    </tr>\n    <tr>\n      <th>1</th>\n      <td>M1C</td>\n      <td>Scarborough</td>\n      <td>Rouge Hill / Port Union / Highland Creek</td>\n      <td>M1C, Scarborough, Rouge Hill / Port Union / Hi...</td>\n    </tr>\n    <tr>\n      <th>2</th>\n      <td>M1E</td>\n      <td>Scarborough</td>\n      <td>Guildwood / Morningside / West Hill</td>\n      <td>M1E, Scarborough, Guildwood / Morningside / We...</td>\n    </tr>\n    <tr>\n      <th>3</th>\n      <td>M1G</td>\n      <td>Scarborough</td>\n      <td>Woburn</td>\n      <td>M1G, Scarborough, Woburn</td>\n    </tr>\n    <tr>\n      <th>4</th>\n      <td>M1H</td>\n      <td>Scarborough</td>\n      <td>Cedarbrae</td>\n      <td>M1H, Scarborough, Cedarbrae</td>\n    </tr>\n  </tbody>\n</table>\n</div>",
                        "text/plain": "  PostalCode      Borough                             Neighbourhood  \\\n0        M1B  Scarborough                           Malvern / Rouge   \n1        M1C  Scarborough  Rouge Hill / Port Union / Highland Creek   \n2        M1E  Scarborough       Guildwood / Morningside / West Hill   \n3        M1G  Scarborough                                    Woburn   \n4        M1H  Scarborough                                 Cedarbrae   \n\n                                             address  \n0                  M1B, Scarborough, Malvern / Rouge  \n1  M1C, Scarborough, Rouge Hill / Port Union / Hi...  \n2  M1E, Scarborough, Guildwood / Morningside / We...  \n3                           M1G, Scarborough, Woburn  \n4                        M1H, Scarborough, Cedarbrae  "
                    },
                    "execution_count": 32,
                    "metadata": {},
                    "output_type": "execute_result"
                }
            ],
            "source": "from geopy.geocoders import Nominatim\ngeolocator = Nominatim()\n\ndf_geopy1['address'] = df3[['PostalCode', 'Borough', 'Neighbourhood']].apply(lambda x: ', '.join(x), axis=1 )\ndf_geopy1.head()"
        },
        {
            "cell_type": "code",
            "execution_count": 33,
            "metadata": {},
            "outputs": [
                {
                    "name": "stdout",
                    "output_type": "stream",
                    "text": "<class 'pandas.core.frame.DataFrame'>\nInt64Index: 103 entries, 0 to 102\nData columns (total 4 columns):\nPostalCode       103 non-null object\nBorough          103 non-null object\nNeighbourhood    103 non-null object\naddress          103 non-null object\ndtypes: object(4)\nmemory usage: 4.0+ KB\n"
                }
            ],
            "source": "df_geopy1.drop(df_geopy1[df_geopy1['Borough']==\"Notassigned\"].index,axis=0, inplace=True)\n#df_geopy1\n# code holds true up until i=102\ndf_geopy1.info()"
        },
        {
            "cell_type": "code",
            "execution_count": 34,
            "metadata": {},
            "outputs": [],
            "source": "df_geopy1.to_csv('geopy1.csv')\n# no data for location after row 75"
        },
        {
            "cell_type": "code",
            "execution_count": 35,
            "metadata": {},
            "outputs": [
                {
                    "name": "stderr",
                    "output_type": "stream",
                    "text": "/opt/conda/envs/Python36/lib/python3.6/site-packages/ipykernel/__main__.py:2: DeprecationWarning: Using Nominatim with the default \"geopy/1.21.0\" `user_agent` is strongly discouraged, as it violates Nominatim's ToS https://operations.osmfoundation.org/policies/nominatim/ and may possibly cause 403 and 429 HTTP errors. Please specify a custom `user_agent` with `Nominatim(user_agent=\"my-application\")` or by overriding the default `user_agent`: `geopy.geocoders.options.default_user_agent = \"my-application\"`. In geopy 2.0 this will become an exception.\n  from ipykernel import kernelapp as app\n"
                }
            ],
            "source": "from  geopy.geocoders import Nominatim\ngeolocator = Nominatim()\nlocation = geolocator.geocode(\"M1G, Scarborough, Woburn\")\n\n\n#print(location.address)\n\n#print((location.latitude, location.longitude))\n\n#print(location.raw)"
        },
        {
            "cell_type": "code",
            "execution_count": 36,
            "metadata": {},
            "outputs": [],
            "source": "df3.to_csv('geopy.csv')"
        },
        {
            "cell_type": "code",
            "execution_count": 37,
            "metadata": {},
            "outputs": [],
            "source": "import csv\n\nwith open('geopy.csv') as csvfile:\n     reader = csv.DictReader(csvfile)\n     #for row in reader:\n         #print(row['PostalCode'],row['Borough'], row['Neighbourhood'] )"
        },
        {
            "cell_type": "code",
            "execution_count": 38,
            "metadata": {},
            "outputs": [
                {
                    "name": "stderr",
                    "output_type": "stream",
                    "text": "/opt/conda/envs/Python36/lib/python3.6/site-packages/ipykernel/__main__.py:2: DeprecationWarning: Using Nominatim with the default \"geopy/1.21.0\" `user_agent` is strongly discouraged, as it violates Nominatim's ToS https://operations.osmfoundation.org/policies/nominatim/ and may possibly cause 403 and 429 HTTP errors. Please specify a custom `user_agent` with `Nominatim(user_agent=\"my-application\")` or by overriding the default `user_agent`: `geopy.geocoders.options.default_user_agent = \"my-application\"`. In geopy 2.0 this will become an exception.\n  from ipykernel import kernelapp as app\n"
                }
            ],
            "source": "from  geopy.geocoders import Nominatim\ngeolocator = Nominatim()\nlocation = geolocator.geocode(\"M1B Scarborough Rouge,Malvern\")\n\n#print(location.address)\n\n#print((location.latitude, location.longitude))\n\n#print(location.raw)"
        },
        {
            "cell_type": "code",
            "execution_count": 39,
            "metadata": {},
            "outputs": [
                {
                    "name": "stderr",
                    "output_type": "stream",
                    "text": "/opt/conda/envs/Python36/lib/python3.6/site-packages/ipykernel/__main__.py:2: DeprecationWarning: Using Nominatim with the default \"geopy/1.21.0\" `user_agent` is strongly discouraged, as it violates Nominatim's ToS https://operations.osmfoundation.org/policies/nominatim/ and may possibly cause 403 and 429 HTTP errors. Please specify a custom `user_agent` with `Nominatim(user_agent=\"my-application\")` or by overriding the default `user_agent`: `geopy.geocoders.options.default_user_agent = \"my-application\"`. In geopy 2.0 this will become an exception.\n  from ipykernel import kernelapp as app\n"
                }
            ],
            "source": "from  geopy.geocoders import Nominatim\ngeolocator = Nominatim()\nlocation = geolocator.geocode(\"Toronto, Highland Creek\")\n\n#print(location.address)\n\n#print((location.latitude, location.longitude))\n\n#print(location.raw)\n\n#M1C Scarborough Highland Creek,Rouge Hill,Port Union = no address"
        },
        {
            "cell_type": "code",
            "execution_count": 40,
            "metadata": {},
            "outputs": [
                {
                    "name": "stderr",
                    "output_type": "stream",
                    "text": "/opt/conda/envs/Python36/lib/python3.6/site-packages/ipykernel/__main__.py:2: DeprecationWarning: Using Nominatim with the default \"geopy/1.21.0\" `user_agent` is strongly discouraged, as it violates Nominatim's ToS https://operations.osmfoundation.org/policies/nominatim/ and may possibly cause 403 and 429 HTTP errors. Please specify a custom `user_agent` with `Nominatim(user_agent=\"my-application\")` or by overriding the default `user_agent`: `geopy.geocoders.options.default_user_agent = \"my-application\"`. In geopy 2.0 this will become an exception.\n  from ipykernel import kernelapp as app\n"
                }
            ],
            "source": "from  geopy.geocoders import Nominatim\ngeolocator = Nominatim()\nlocation = geolocator.geocode(\"Toronto, Morningside\")\n\n#print(location.address)\n\n#print((location.latitude, location.longitude))\n\n#print(location.raw)\n\n#M1E Scarborough Guildwood,Morningside,West Hill = no address"
        },
        {
            "cell_type": "code",
            "execution_count": 41,
            "metadata": {},
            "outputs": [],
            "source": "import numpy as np\nimport csv\n\n\nPostalCode = None\nBorough = None\nNeighbourhood = None\nlatData = None\nlongData = None\n\nLAT_Woburn = 43.7598243\nLONG_Woburn = -79.2252908\nLAT_Malvern = 43.8091955\nLONG_Malvern = -79.2217008\nLAT_Highland_Creek = 43.7901172\nLONG_Highland_Creek = -79.1733344\nLAT_Morningside = 43.7826012\nLONG_Morningside = -79.2049579\n\n \nPostalCode = np.array(['M1H','M1B','M1C','M1G '])\nBorough = np.array(['Scarborough','Scarborough','Scarborough','Scarborough'])\nNeighbourhood = np.array(['Woburn','Malvern','Highland_Creek','Morningside'])\nlatData = np.array([43.7598243,43.8091955, 43.7901172 , 43.7826012])\nlongData = np.array([-79.2252908,-79.2217008,-79.1733344, -79.2049579 ])\n\nwith open('data.csv', 'w') as file:\n    writer = csv.writer(file, delimiter=',')\n    writer.writerow('ABXYZ')\n    for a,b,x,y,z in np.nditer([ PostalCode.T, Borough.T, Neighbourhood.T, latData.T, longData.T], order='C'):\n        writer.writerow([a,b,x,y,z])  "
        },
        {
            "cell_type": "code",
            "execution_count": 42,
            "metadata": {},
            "outputs": [
                {
                    "name": "stdout",
                    "output_type": "stream",
                    "text": "M1H Scarborough Woburn 43.7598243 -79.2252908\nM1B Scarborough Malvern 43.8091955 -79.2217008\nM1C Scarborough Highland_Creek 43.7901172 -79.1733344\nM1G  Scarborough Morningside 43.7826012 -79.2049579\n"
                }
            ],
            "source": "import csv\n\nwith open('data.csv') as csvfile:\n     reader = csv.DictReader(csvfile)\n     for row in reader:\n         print(row['A'], row['B'],row['X'], row['Y'], row['Z'])"
        },
        {
            "cell_type": "code",
            "execution_count": 43,
            "metadata": {},
            "outputs": [
                {
                    "data": {
                        "text/html": "<div>\n<style scoped>\n    .dataframe tbody tr th:only-of-type {\n        vertical-align: middle;\n    }\n\n    .dataframe tbody tr th {\n        vertical-align: top;\n    }\n\n    .dataframe thead th {\n        text-align: right;\n    }\n</style>\n<table border=\"1\" class=\"dataframe\">\n  <thead>\n    <tr style=\"text-align: right;\">\n      <th></th>\n      <th>A</th>\n      <th>B</th>\n      <th>X</th>\n      <th>Y</th>\n      <th>Z</th>\n    </tr>\n  </thead>\n  <tbody>\n    <tr>\n      <th>0</th>\n      <td>M1H</td>\n      <td>Scarborough</td>\n      <td>Woburn</td>\n      <td>43.759824</td>\n      <td>-79.225291</td>\n    </tr>\n    <tr>\n      <th>1</th>\n      <td>M1B</td>\n      <td>Scarborough</td>\n      <td>Malvern</td>\n      <td>43.809196</td>\n      <td>-79.221701</td>\n    </tr>\n    <tr>\n      <th>2</th>\n      <td>M1C</td>\n      <td>Scarborough</td>\n      <td>Highland_Creek</td>\n      <td>43.790117</td>\n      <td>-79.173334</td>\n    </tr>\n    <tr>\n      <th>3</th>\n      <td>M1G</td>\n      <td>Scarborough</td>\n      <td>Morningside</td>\n      <td>43.782601</td>\n      <td>-79.204958</td>\n    </tr>\n  </tbody>\n</table>\n</div>",
                        "text/plain": "      A            B               X          Y          Z\n0   M1H  Scarborough          Woburn  43.759824 -79.225291\n1   M1B  Scarborough         Malvern  43.809196 -79.221701\n2   M1C  Scarborough  Highland_Creek  43.790117 -79.173334\n3  M1G   Scarborough     Morningside  43.782601 -79.204958"
                    },
                    "execution_count": 43,
                    "metadata": {},
                    "output_type": "execute_result"
                }
            ],
            "source": "pd.read_csv('data.csv') "
        },
        {
            "cell_type": "code",
            "execution_count": 44,
            "metadata": {},
            "outputs": [],
            "source": "import pandas, os"
        },
        {
            "cell_type": "code",
            "execution_count": 45,
            "metadata": {},
            "outputs": [
                {
                    "data": {
                        "text/html": "<div>\n<style scoped>\n    .dataframe tbody tr th:only-of-type {\n        vertical-align: middle;\n    }\n\n    .dataframe tbody tr th {\n        vertical-align: top;\n    }\n\n    .dataframe thead th {\n        text-align: right;\n    }\n</style>\n<table border=\"1\" class=\"dataframe\">\n  <thead>\n    <tr style=\"text-align: right;\">\n      <th></th>\n      <th>PostalCode</th>\n      <th>Borough</th>\n      <th>Neighbourhood</th>\n      <th>address</th>\n    </tr>\n  </thead>\n  <tbody>\n    <tr>\n      <th>0</th>\n      <td>M3A</td>\n      <td>North York</td>\n      <td>Parkwoods</td>\n      <td>M3A,North York,Parkwoods</td>\n    </tr>\n    <tr>\n      <th>1</th>\n      <td>M4A</td>\n      <td>North York</td>\n      <td>Victoria Village</td>\n      <td>M4A,North York,Victoria Village</td>\n    </tr>\n    <tr>\n      <th>2</th>\n      <td>M5A</td>\n      <td>Downtown Toronto</td>\n      <td>Harbourfront</td>\n      <td>M5A,Downtown Toronto,Harbourfront</td>\n    </tr>\n  </tbody>\n</table>\n</div>",
                        "text/plain": "  PostalCode           Borough     Neighbourhood  \\\n0        M3A        North York         Parkwoods   \n1        M4A        North York  Victoria Village   \n2        M5A  Downtown Toronto      Harbourfront   \n\n                             address  \n0           M3A,North York,Parkwoods  \n1    M4A,North York,Victoria Village  \n2  M5A,Downtown Toronto,Harbourfront  "
                    },
                    "execution_count": 45,
                    "metadata": {},
                    "output_type": "execute_result"
                }
            ],
            "source": "df_geopy['address']=df_geopy['PostalCode'] + ',' + df_geopy['Borough'] + ','+ df_geopy['Neighbourhood']\ndf_geopy.head()"
        },
        {
            "cell_type": "code",
            "execution_count": 46,
            "metadata": {},
            "outputs": [
                {
                    "name": "stderr",
                    "output_type": "stream",
                    "text": "/opt/conda/envs/Python36/lib/python3.6/site-packages/ipykernel/__main__.py:1: DeprecationWarning: Using Nominatim with the default \"geopy/1.21.0\" `user_agent` is strongly discouraged, as it violates Nominatim's ToS https://operations.osmfoundation.org/policies/nominatim/ and may possibly cause 403 and 429 HTTP errors. Please specify a custom `user_agent` with `Nominatim(user_agent=\"my-application\")` or by overriding the default `user_agent`: `geopy.geocoders.options.default_user_agent = \"my-application\"`. In geopy 2.0 this will become an exception.\n  if __name__ == '__main__':\n"
                }
            ],
            "source": "nom = Nominatim()\nn=nom.geocode('M1B, Scarborough, Rouge,Malvern')\nn"
        },
        {
            "cell_type": "code",
            "execution_count": 48,
            "metadata": {},
            "outputs": [
                {
                    "name": "stdout",
                    "output_type": "stream",
                    "text": "None\n"
                }
            ],
            "source": "n2=nom.geocode('M1E Scarborough Guildwood,Morningside,West Hill')\nprint(n2)"
        },
        {
            "cell_type": "code",
            "execution_count": 49,
            "metadata": {},
            "outputs": [
                {
                    "data": {
                        "text/html": "<div>\n<style scoped>\n    .dataframe tbody tr th:only-of-type {\n        vertical-align: middle;\n    }\n\n    .dataframe tbody tr th {\n        vertical-align: top;\n    }\n\n    .dataframe thead th {\n        text-align: right;\n    }\n</style>\n<table border=\"1\" class=\"dataframe\">\n  <thead>\n    <tr style=\"text-align: right;\">\n      <th></th>\n      <th>PostalCode</th>\n      <th>Borough</th>\n      <th>Neighbourhood</th>\n      <th>address</th>\n      <th>Coordinates</th>\n    </tr>\n  </thead>\n  <tbody>\n    <tr>\n      <th>0</th>\n      <td>M3A</td>\n      <td>North York</td>\n      <td>Parkwoods</td>\n      <td>M3A,North York,Parkwoods</td>\n      <td>(Parkwoods Village Drive, Parkway East, Don Va...</td>\n    </tr>\n    <tr>\n      <th>1</th>\n      <td>M4A</td>\n      <td>North York</td>\n      <td>Victoria Village</td>\n      <td>M4A,North York,Victoria Village</td>\n      <td>None</td>\n    </tr>\n    <tr>\n      <th>2</th>\n      <td>M5A</td>\n      <td>Downtown Toronto</td>\n      <td>Harbourfront</td>\n      <td>M5A,Downtown Toronto,Harbourfront</td>\n      <td>None</td>\n    </tr>\n  </tbody>\n</table>\n</div>",
                        "text/plain": "  PostalCode           Borough     Neighbourhood  \\\n0        M3A        North York         Parkwoods   \n1        M4A        North York  Victoria Village   \n2        M5A  Downtown Toronto      Harbourfront   \n\n                             address  \\\n0           M3A,North York,Parkwoods   \n1    M4A,North York,Victoria Village   \n2  M5A,Downtown Toronto,Harbourfront   \n\n                                         Coordinates  \n0  (Parkwoods Village Drive, Parkway East, Don Va...  \n1                                               None  \n2                                               None  "
                    },
                    "execution_count": 49,
                    "metadata": {},
                    "output_type": "execute_result"
                }
            ],
            "source": "df_geopy['Coordinates'] =df_geopy['address'].apply(nom.geocode)\ndf_geopy.head()"
        },
        {
            "cell_type": "code",
            "execution_count": 52,
            "metadata": {},
            "outputs": [
                {
                    "data": {
                        "text/plain": "Location(Parkwoods Village Drive, Parkway East, Don Valley East, North York, Toronto, Golden Horseshoe, Ontario, M3A 1Z5, Canada, (43.7612239, -79.3239857, 0.0))"
                    },
                    "execution_count": 52,
                    "metadata": {},
                    "output_type": "execute_result"
                }
            ],
            "source": "df_geopy.Coordinates[0]"
        },
        {
            "cell_type": "code",
            "execution_count": 53,
            "metadata": {},
            "outputs": [
                {
                    "data": {
                        "text/html": "<div>\n<style scoped>\n    .dataframe tbody tr th:only-of-type {\n        vertical-align: middle;\n    }\n\n    .dataframe tbody tr th {\n        vertical-align: top;\n    }\n\n    .dataframe thead th {\n        text-align: right;\n    }\n</style>\n<table border=\"1\" class=\"dataframe\">\n  <thead>\n    <tr style=\"text-align: right;\">\n      <th></th>\n      <th>PostalCode</th>\n      <th>Borough</th>\n      <th>Neighbourhood</th>\n      <th>address</th>\n      <th>Coordinates</th>\n      <th>latitude</th>\n      <th>longitude</th>\n    </tr>\n  </thead>\n  <tbody>\n    <tr>\n      <th>0</th>\n      <td>M3A</td>\n      <td>North York</td>\n      <td>Parkwoods</td>\n      <td>M3A,North York,Parkwoods</td>\n      <td>(Parkwoods Village Drive, Parkway East, Don Va...</td>\n      <td>43.761224</td>\n      <td>-79.323986</td>\n    </tr>\n    <tr>\n      <th>1</th>\n      <td>M4A</td>\n      <td>North York</td>\n      <td>Victoria Village</td>\n      <td>M4A,North York,Victoria Village</td>\n      <td>None</td>\n      <td>NaN</td>\n      <td>NaN</td>\n    </tr>\n    <tr>\n      <th>2</th>\n      <td>M5A</td>\n      <td>Downtown Toronto</td>\n      <td>Harbourfront</td>\n      <td>M5A,Downtown Toronto,Harbourfront</td>\n      <td>None</td>\n      <td>NaN</td>\n      <td>NaN</td>\n    </tr>\n  </tbody>\n</table>\n</div>",
                        "text/plain": "  PostalCode           Borough     Neighbourhood  \\\n0        M3A        North York         Parkwoods   \n1        M4A        North York  Victoria Village   \n2        M5A  Downtown Toronto      Harbourfront   \n\n                             address  \\\n0           M3A,North York,Parkwoods   \n1    M4A,North York,Victoria Village   \n2  M5A,Downtown Toronto,Harbourfront   \n\n                                         Coordinates   latitude  longitude  \n0  (Parkwoods Village Drive, Parkway East, Don Va...  43.761224 -79.323986  \n1                                               None        NaN        NaN  \n2                                               None        NaN        NaN  "
                    },
                    "execution_count": 53,
                    "metadata": {},
                    "output_type": "execute_result"
                }
            ],
            "source": "df_geopy['latitude']=df_geopy['Coordinates'].apply(lambda x: x.latitude if x !=None else None)\ndf_geopy['longitude']=df_geopy['Coordinates'].apply(lambda x: x.longitude if x !=None else None)\ndf_geopy.head()"
        },
        {
            "cell_type": "code",
            "execution_count": 55,
            "metadata": {},
            "outputs": [],
            "source": "df_geopy.to_csv('geo_loc_py.csv')\n"
        },
        {
            "cell_type": "code",
            "execution_count": 57,
            "metadata": {},
            "outputs": [
                {
                    "name": "stdout",
                    "output_type": "stream",
                    "text": "The latitude of M3A,North York,Parkwoods is 43.7612239 and its longitude is -79.3239857\n"
                }
            ],
            "source": "print('The latitude of', df_geopy.address[0],  'is', df_geopy.latitude[0], 'and its longitude is',df_geopy.longitude[0])"
        },
        {
            "cell_type": "markdown",
            "metadata": {},
            "source": "2.2. Used the csv file to create the requested dataframe\u00b6\n"
        },
        {
            "cell_type": "code",
            "execution_count": 58,
            "metadata": {},
            "outputs": [
                {
                    "data": {
                        "text/html": "<div>\n<style scoped>\n    .dataframe tbody tr th:only-of-type {\n        vertical-align: middle;\n    }\n\n    .dataframe tbody tr th {\n        vertical-align: top;\n    }\n\n    .dataframe thead th {\n        text-align: right;\n    }\n</style>\n<table border=\"1\" class=\"dataframe\">\n  <thead>\n    <tr style=\"text-align: right;\">\n      <th></th>\n      <th>Unnamed: 0</th>\n      <th>PostalCode</th>\n      <th>Borough</th>\n      <th>Neighbourhood</th>\n      <th>address</th>\n    </tr>\n  </thead>\n  <tbody>\n    <tr>\n      <th>0</th>\n      <td>0</td>\n      <td>M1B</td>\n      <td>Scarborough</td>\n      <td>Malvern / Rouge</td>\n      <td>M1B, Scarborough, Malvern / Rouge</td>\n    </tr>\n    <tr>\n      <th>1</th>\n      <td>1</td>\n      <td>M1C</td>\n      <td>Scarborough</td>\n      <td>Rouge Hill / Port Union / Highland Creek</td>\n      <td>M1C, Scarborough, Rouge Hill / Port Union / Hi...</td>\n    </tr>\n    <tr>\n      <th>2</th>\n      <td>2</td>\n      <td>M1E</td>\n      <td>Scarborough</td>\n      <td>Guildwood / Morningside / West Hill</td>\n      <td>M1E, Scarborough, Guildwood / Morningside / We...</td>\n    </tr>\n    <tr>\n      <th>3</th>\n      <td>3</td>\n      <td>M1G</td>\n      <td>Scarborough</td>\n      <td>Woburn</td>\n      <td>M1G, Scarborough, Woburn</td>\n    </tr>\n    <tr>\n      <th>4</th>\n      <td>4</td>\n      <td>M1H</td>\n      <td>Scarborough</td>\n      <td>Cedarbrae</td>\n      <td>M1H, Scarborough, Cedarbrae</td>\n    </tr>\n  </tbody>\n</table>\n</div>",
                        "text/plain": "   Unnamed: 0 PostalCode      Borough  \\\n0           0        M1B  Scarborough   \n1           1        M1C  Scarborough   \n2           2        M1E  Scarborough   \n3           3        M1G  Scarborough   \n4           4        M1H  Scarborough   \n\n                              Neighbourhood  \\\n0                           Malvern / Rouge   \n1  Rouge Hill / Port Union / Highland Creek   \n2       Guildwood / Morningside / West Hill   \n3                                    Woburn   \n4                                 Cedarbrae   \n\n                                             address  \n0                  M1B, Scarborough, Malvern / Rouge  \n1  M1C, Scarborough, Rouge Hill / Port Union / Hi...  \n2  M1E, Scarborough, Guildwood / Morningside / We...  \n3                           M1G, Scarborough, Woburn  \n4                        M1H, Scarborough, Cedarbrae  "
                    },
                    "execution_count": 58,
                    "metadata": {},
                    "output_type": "execute_result"
                }
            ],
            "source": "# Load the Pandas libraries with alias 'pd' \nimport pandas as pd \n# Read data from file 'filename.csv' \n# (in the same directory that your python process is based)\n# Control delimiters, rows, column names with read_csv (see later) \ndata2 = pd.read_csv(\"geopy.csv\") \n# Preview the first 5 lines of the loaded data \ndata2.head()"
        },
        {
            "cell_type": "code",
            "execution_count": 61,
            "metadata": {},
            "outputs": [
                {
                    "data": {
                        "text/html": "<div>\n<style scoped>\n    .dataframe tbody tr th:only-of-type {\n        vertical-align: middle;\n    }\n\n    .dataframe tbody tr th {\n        vertical-align: top;\n    }\n\n    .dataframe thead th {\n        text-align: right;\n    }\n</style>\n<table border=\"1\" class=\"dataframe\">\n  <thead>\n    <tr style=\"text-align: right;\">\n      <th></th>\n      <th>Postal Code</th>\n      <th>Latitude</th>\n      <th>Longitude</th>\n    </tr>\n  </thead>\n  <tbody>\n    <tr>\n      <th>0</th>\n      <td>M1B</td>\n      <td>43.806686</td>\n      <td>-79.194353</td>\n    </tr>\n    <tr>\n      <th>1</th>\n      <td>M1C</td>\n      <td>43.784535</td>\n      <td>-79.160497</td>\n    </tr>\n    <tr>\n      <th>2</th>\n      <td>M1E</td>\n      <td>43.763573</td>\n      <td>-79.188711</td>\n    </tr>\n    <tr>\n      <th>3</th>\n      <td>M1G</td>\n      <td>43.770992</td>\n      <td>-79.216917</td>\n    </tr>\n    <tr>\n      <th>4</th>\n      <td>M1H</td>\n      <td>43.773136</td>\n      <td>-79.239476</td>\n    </tr>\n  </tbody>\n</table>\n</div>",
                        "text/plain": "  Postal Code   Latitude  Longitude\n0         M1B  43.806686 -79.194353\n1         M1C  43.784535 -79.160497\n2         M1E  43.763573 -79.188711\n3         M1G  43.770992 -79.216917\n4         M1H  43.773136 -79.239476"
                    },
                    "execution_count": 61,
                    "metadata": {},
                    "output_type": "execute_result"
                }
            ],
            "source": "# The code was removed by Watson Studio for sharing."
        },
        {
            "cell_type": "code",
            "execution_count": 62,
            "metadata": {},
            "outputs": [
                {
                    "data": {
                        "text/html": "<div>\n<style scoped>\n    .dataframe tbody tr th:only-of-type {\n        vertical-align: middle;\n    }\n\n    .dataframe tbody tr th {\n        vertical-align: top;\n    }\n\n    .dataframe thead th {\n        text-align: right;\n    }\n</style>\n<table border=\"1\" class=\"dataframe\">\n  <thead>\n    <tr style=\"text-align: right;\">\n      <th></th>\n      <th>PostalCode</th>\n      <th>Latitude</th>\n      <th>Longitude</th>\n    </tr>\n  </thead>\n  <tbody>\n    <tr>\n      <th>0</th>\n      <td>M1B</td>\n      <td>43.806686</td>\n      <td>-79.194353</td>\n    </tr>\n    <tr>\n      <th>1</th>\n      <td>M1C</td>\n      <td>43.784535</td>\n      <td>-79.160497</td>\n    </tr>\n    <tr>\n      <th>2</th>\n      <td>M1E</td>\n      <td>43.763573</td>\n      <td>-79.188711</td>\n    </tr>\n    <tr>\n      <th>3</th>\n      <td>M1G</td>\n      <td>43.770992</td>\n      <td>-79.216917</td>\n    </tr>\n    <tr>\n      <th>4</th>\n      <td>M1H</td>\n      <td>43.773136</td>\n      <td>-79.239476</td>\n    </tr>\n  </tbody>\n</table>\n</div>",
                        "text/plain": "  PostalCode   Latitude  Longitude\n0        M1B  43.806686 -79.194353\n1        M1C  43.784535 -79.160497\n2        M1E  43.763573 -79.188711\n3        M1G  43.770992 -79.216917\n4        M1H  43.773136 -79.239476"
                    },
                    "execution_count": 62,
                    "metadata": {},
                    "output_type": "execute_result"
                }
            ],
            "source": "data3.rename(columns={'Postal Code': 'PostalCode'}, inplace=True)\ndata3.head()"
        },
        {
            "cell_type": "code",
            "execution_count": 63,
            "metadata": {},
            "outputs": [
                {
                    "data": {
                        "text/html": "<div>\n<style scoped>\n    .dataframe tbody tr th:only-of-type {\n        vertical-align: middle;\n    }\n\n    .dataframe tbody tr th {\n        vertical-align: top;\n    }\n\n    .dataframe thead th {\n        text-align: right;\n    }\n</style>\n<table border=\"1\" class=\"dataframe\">\n  <thead>\n    <tr style=\"text-align: right;\">\n      <th></th>\n      <th>PostalCode</th>\n      <th>Latitude</th>\n      <th>Longitude</th>\n      <th>Unnamed: 0</th>\n      <th>Borough</th>\n      <th>Neighbourhood</th>\n      <th>address</th>\n    </tr>\n  </thead>\n  <tbody>\n    <tr>\n      <th>0</th>\n      <td>M1B</td>\n      <td>43.806686</td>\n      <td>-79.194353</td>\n      <td>0</td>\n      <td>Scarborough</td>\n      <td>Malvern / Rouge</td>\n      <td>M1B, Scarborough, Malvern / Rouge</td>\n    </tr>\n    <tr>\n      <th>1</th>\n      <td>M1C</td>\n      <td>43.784535</td>\n      <td>-79.160497</td>\n      <td>1</td>\n      <td>Scarborough</td>\n      <td>Rouge Hill / Port Union / Highland Creek</td>\n      <td>M1C, Scarborough, Rouge Hill / Port Union / Hi...</td>\n    </tr>\n    <tr>\n      <th>2</th>\n      <td>M1E</td>\n      <td>43.763573</td>\n      <td>-79.188711</td>\n      <td>2</td>\n      <td>Scarborough</td>\n      <td>Guildwood / Morningside / West Hill</td>\n      <td>M1E, Scarborough, Guildwood / Morningside / We...</td>\n    </tr>\n    <tr>\n      <th>3</th>\n      <td>M1G</td>\n      <td>43.770992</td>\n      <td>-79.216917</td>\n      <td>3</td>\n      <td>Scarborough</td>\n      <td>Woburn</td>\n      <td>M1G, Scarborough, Woburn</td>\n    </tr>\n    <tr>\n      <th>4</th>\n      <td>M1H</td>\n      <td>43.773136</td>\n      <td>-79.239476</td>\n      <td>4</td>\n      <td>Scarborough</td>\n      <td>Cedarbrae</td>\n      <td>M1H, Scarborough, Cedarbrae</td>\n    </tr>\n  </tbody>\n</table>\n</div>",
                        "text/plain": "  PostalCode   Latitude  Longitude  Unnamed: 0      Borough  \\\n0        M1B  43.806686 -79.194353           0  Scarborough   \n1        M1C  43.784535 -79.160497           1  Scarborough   \n2        M1E  43.763573 -79.188711           2  Scarborough   \n3        M1G  43.770992 -79.216917           3  Scarborough   \n4        M1H  43.773136 -79.239476           4  Scarborough   \n\n                              Neighbourhood  \\\n0                           Malvern / Rouge   \n1  Rouge Hill / Port Union / Highland Creek   \n2       Guildwood / Morningside / West Hill   \n3                                    Woburn   \n4                                 Cedarbrae   \n\n                                             address  \n0                  M1B, Scarborough, Malvern / Rouge  \n1  M1C, Scarborough, Rouge Hill / Port Union / Hi...  \n2  M1E, Scarborough, Guildwood / Morningside / We...  \n3                           M1G, Scarborough, Woburn  \n4                        M1H, Scarborough, Cedarbrae  "
                    },
                    "execution_count": 63,
                    "metadata": {},
                    "output_type": "execute_result"
                }
            ],
            "source": "data1 = pd.merge(data3, data2, how='inner', on=None, left_on=None, right_on=None,\n         left_index=False, right_index=False, sort=True,\n         suffixes=('_x', '_y'), copy=True, indicator=False,\n         validate=None)\n\ndata1.head()"
        },
        {
            "cell_type": "code",
            "execution_count": 64,
            "metadata": {},
            "outputs": [
                {
                    "name": "stdout",
                    "output_type": "stream",
                    "text": "<class 'pandas.core.frame.DataFrame'>\nInt64Index: 103 entries, 0 to 102\nData columns (total 7 columns):\nPostalCode       103 non-null object\nLatitude         103 non-null float64\nLongitude        103 non-null float64\nUnnamed: 0       103 non-null int64\nBorough          103 non-null object\nNeighbourhood    103 non-null object\naddress          103 non-null object\ndtypes: float64(2), int64(1), object(4)\nmemory usage: 6.4+ KB\n"
                }
            ],
            "source": "data1.info()"
        },
        {
            "cell_type": "code",
            "execution_count": 65,
            "metadata": {},
            "outputs": [
                {
                    "data": {
                        "text/plain": "['PostalCode',\n 'Latitude',\n 'Longitude',\n 'Unnamed: 0',\n 'Borough',\n 'Neighbourhood',\n 'address']"
                    },
                    "execution_count": 65,
                    "metadata": {},
                    "output_type": "execute_result"
                }
            ],
            "source": "cols = data1.columns.tolist()\ncols"
        },
        {
            "cell_type": "code",
            "execution_count": 66,
            "metadata": {},
            "outputs": [
                {
                    "data": {
                        "text/plain": "['PostalCode', 'Borough', 'Neighbourhood', 'Latitude', 'Longitude']"
                    },
                    "execution_count": 66,
                    "metadata": {},
                    "output_type": "execute_result"
                }
            ],
            "source": "new_column_order = ['PostalCode',\n 'Borough',\n 'Neighbourhood',\n 'Latitude',\n 'Longitude']\nnew_column_order"
        },
        {
            "cell_type": "code",
            "execution_count": 67,
            "metadata": {},
            "outputs": [],
            "source": "data1 = data1[new_column_order]\n#data1.head()"
        },
        {
            "cell_type": "code",
            "execution_count": 68,
            "metadata": {},
            "outputs": [],
            "source": "sorted_df = data1.sort_values([ 'Neighbourhood', 'Latitude'], ascending=[True, True])\n#sorted_df.head()"
        },
        {
            "cell_type": "code",
            "execution_count": 70,
            "metadata": {},
            "outputs": [
                {
                    "data": {
                        "text/html": "<div>\n<style scoped>\n    .dataframe tbody tr th:only-of-type {\n        vertical-align: middle;\n    }\n\n    .dataframe tbody tr th {\n        vertical-align: top;\n    }\n\n    .dataframe thead th {\n        text-align: right;\n    }\n</style>\n<table border=\"1\" class=\"dataframe\">\n  <thead>\n    <tr style=\"text-align: right;\">\n      <th></th>\n      <th>level_0</th>\n      <th>index</th>\n      <th>PostalCode</th>\n      <th>Borough</th>\n      <th>Neighbourhood</th>\n      <th>Latitude</th>\n      <th>Longitude</th>\n    </tr>\n  </thead>\n  <tbody>\n    <tr>\n      <th>0</th>\n      <td>0</td>\n      <td>12</td>\n      <td>M1S</td>\n      <td>Scarborough</td>\n      <td>Agincourt</td>\n      <td>43.794200</td>\n      <td>-79.262029</td>\n    </tr>\n    <tr>\n      <th>1</th>\n      <td>1</td>\n      <td>89</td>\n      <td>M8W</td>\n      <td>Etobicoke</td>\n      <td>Alderwood / Long Branch</td>\n      <td>43.602414</td>\n      <td>-79.543484</td>\n    </tr>\n    <tr>\n      <th>2</th>\n      <td>2</td>\n      <td>28</td>\n      <td>M3H</td>\n      <td>NorthYork</td>\n      <td>Bathurst Manor / Wilson Heights / Downsview North</td>\n      <td>43.754328</td>\n      <td>-79.442259</td>\n    </tr>\n    <tr>\n      <th>3</th>\n      <td>3</td>\n      <td>19</td>\n      <td>M2K</td>\n      <td>NorthYork</td>\n      <td>Bayview Village</td>\n      <td>43.786947</td>\n      <td>-79.385975</td>\n    </tr>\n    <tr>\n      <th>4</th>\n      <td>4</td>\n      <td>62</td>\n      <td>M5M</td>\n      <td>NorthYork</td>\n      <td>Bedford Park / Lawrence Manor East</td>\n      <td>43.733283</td>\n      <td>-79.419750</td>\n    </tr>\n  </tbody>\n</table>\n</div>",
                        "text/plain": "   level_0  index PostalCode      Borough  \\\n0        0     12        M1S  Scarborough   \n1        1     89        M8W    Etobicoke   \n2        2     28        M3H    NorthYork   \n3        3     19        M2K    NorthYork   \n4        4     62        M5M    NorthYork   \n\n                                       Neighbourhood   Latitude  Longitude  \n0                                          Agincourt  43.794200 -79.262029  \n1                            Alderwood / Long Branch  43.602414 -79.543484  \n2  Bathurst Manor / Wilson Heights / Downsview North  43.754328 -79.442259  \n3                                    Bayview Village  43.786947 -79.385975  \n4                 Bedford Park / Lawrence Manor East  43.733283 -79.419750  "
                    },
                    "execution_count": 70,
                    "metadata": {},
                    "output_type": "execute_result"
                }
            ],
            "source": "sorted_df.reset_index(inplace=True)\nsorted_df.head()"
        },
        {
            "cell_type": "code",
            "execution_count": 71,
            "metadata": {},
            "outputs": [],
            "source": "sorted_cols =sorted_df.columns.tolist()\n#sorted_cols"
        },
        {
            "cell_type": "code",
            "execution_count": 72,
            "metadata": {},
            "outputs": [
                {
                    "data": {
                        "text/plain": "['PostalCode', 'Borough', 'Neighbourhood', 'Latitude', 'Longitude']"
                    },
                    "execution_count": 72,
                    "metadata": {},
                    "output_type": "execute_result"
                }
            ],
            "source": "new_column_order2 = ['PostalCode',\n 'Borough',\n 'Neighbourhood',\n 'Latitude',\n 'Longitude']\nnew_column_order2"
        },
        {
            "cell_type": "code",
            "execution_count": 73,
            "metadata": {},
            "outputs": [
                {
                    "data": {
                        "text/html": "<div>\n<style scoped>\n    .dataframe tbody tr th:only-of-type {\n        vertical-align: middle;\n    }\n\n    .dataframe tbody tr th {\n        vertical-align: top;\n    }\n\n    .dataframe thead th {\n        text-align: right;\n    }\n</style>\n<table border=\"1\" class=\"dataframe\">\n  <thead>\n    <tr style=\"text-align: right;\">\n      <th></th>\n      <th>PostalCode</th>\n      <th>Borough</th>\n      <th>Neighbourhood</th>\n      <th>Latitude</th>\n      <th>Longitude</th>\n    </tr>\n  </thead>\n  <tbody>\n    <tr>\n      <th>0</th>\n      <td>M1S</td>\n      <td>Scarborough</td>\n      <td>Agincourt</td>\n      <td>43.794200</td>\n      <td>-79.262029</td>\n    </tr>\n    <tr>\n      <th>1</th>\n      <td>M8W</td>\n      <td>Etobicoke</td>\n      <td>Alderwood / Long Branch</td>\n      <td>43.602414</td>\n      <td>-79.543484</td>\n    </tr>\n    <tr>\n      <th>2</th>\n      <td>M3H</td>\n      <td>NorthYork</td>\n      <td>Bathurst Manor / Wilson Heights / Downsview North</td>\n      <td>43.754328</td>\n      <td>-79.442259</td>\n    </tr>\n    <tr>\n      <th>3</th>\n      <td>M2K</td>\n      <td>NorthYork</td>\n      <td>Bayview Village</td>\n      <td>43.786947</td>\n      <td>-79.385975</td>\n    </tr>\n    <tr>\n      <th>4</th>\n      <td>M5M</td>\n      <td>NorthYork</td>\n      <td>Bedford Park / Lawrence Manor East</td>\n      <td>43.733283</td>\n      <td>-79.419750</td>\n    </tr>\n  </tbody>\n</table>\n</div>",
                        "text/plain": "  PostalCode      Borough                                      Neighbourhood  \\\n0        M1S  Scarborough                                          Agincourt   \n1        M8W    Etobicoke                            Alderwood / Long Branch   \n2        M3H    NorthYork  Bathurst Manor / Wilson Heights / Downsview North   \n3        M2K    NorthYork                                    Bayview Village   \n4        M5M    NorthYork                 Bedford Park / Lawrence Manor East   \n\n    Latitude  Longitude  \n0  43.794200 -79.262029  \n1  43.602414 -79.543484  \n2  43.754328 -79.442259  \n3  43.786947 -79.385975  \n4  43.733283 -79.419750  "
                    },
                    "execution_count": 73,
                    "metadata": {},
                    "output_type": "execute_result"
                }
            ],
            "source": "sorted_dataframe = sorted_df[new_column_order]\nsorted_dataframe.head()"
        },
        {
            "cell_type": "code",
            "execution_count": 74,
            "metadata": {},
            "outputs": [],
            "source": "sorted_dataframe.to_csv('sorted_geoloc.csv')"
        },
        {
            "cell_type": "markdown",
            "metadata": {},
            "source": "Assignment3 Build a test set with boroughs in Toronto"
        },
        {
            "cell_type": "code",
            "execution_count": 75,
            "metadata": {},
            "outputs": [
                {
                    "name": "stdout",
                    "output_type": "stream",
                    "text": "Libraries imported.\n"
                }
            ],
            "source": "import numpy as np # library to handle data in a vectorized manner\n\nimport pandas as pd # library for data analsysis\npd.set_option('display.max_columns', None)\npd.set_option('display.max_rows', None)\n\nimport json # library to handle JSON files\n\n#!conda install -c conda-forge geopy --yes # uncomment this line if you haven't completed the Foursquare API lab\nfrom geopy.geocoders import Nominatim # convert an address into latitude and longitude values\n\nimport requests # library to handle requests\nfrom pandas.io.json import json_normalize # tranform JSON file into a pandas dataframe\n\n# Matplotlib and associated plotting modules\nimport matplotlib.cm as cm\nimport matplotlib.colors as colors\n\n# import k-means from clustering stage\nfrom sklearn.cluster import KMeans\n\n#!conda install -c conda-forge folium=0.5.0 --yes # uncomment this line if you haven't completed the Foursquare API lab\nimport folium # map rendering library\n\nprint('Libraries imported.')"
        },
        {
            "cell_type": "markdown",
            "metadata": {},
            "source": "bonus_loading data into json:"
        },
        {
            "cell_type": "code",
            "execution_count": 76,
            "metadata": {},
            "outputs": [],
            "source": "# library to handle JSON files\n\nimport pandas as pd\n\nimport json\n\nsorted_dataframe.to_json(path_or_buf='geo_toronto.json', orient='table')"
        },
        {
            "cell_type": "code",
            "execution_count": 77,
            "metadata": {},
            "outputs": [],
            "source": "with open('geo_toronto.json') as json_data:\n    Toronto_data = json.load(json_data)"
        },
        {
            "cell_type": "code",
            "execution_count": 78,
            "metadata": {},
            "outputs": [
                {
                    "data": {
                        "text/plain": "{'schema': {'fields': [{'name': 'index', 'type': 'integer'},\n   {'name': 'PostalCode', 'type': 'string'},\n   {'name': 'Borough', 'type': 'string'},\n   {'name': 'Neighbourhood', 'type': 'string'},\n   {'name': 'Latitude', 'type': 'number'},\n   {'name': 'Longitude', 'type': 'number'}],\n  'primaryKey': ['index'],\n  'pandas_version': '0.20.0'},\n 'data': [{'index': 0,\n   'PostalCode': 'M1S',\n   'Borough': 'Scarborough',\n   'Neighbourhood': 'Agincourt',\n   'Latitude': 43.7942003,\n   'Longitude': -79.2620294},\n  {'index': 1,\n   'PostalCode': 'M8W',\n   'Borough': 'Etobicoke',\n   'Neighbourhood': 'Alderwood / Long Branch',\n   'Latitude': 43.6024137,\n   'Longitude': -79.5434841},\n  {'index': 2,\n   'PostalCode': 'M3H',\n   'Borough': 'NorthYork',\n   'Neighbourhood': 'Bathurst Manor / Wilson Heights / Downsview North',\n   'Latitude': 43.7543283,\n   'Longitude': -79.4422593},\n  {'index': 3,\n   'PostalCode': 'M2K',\n   'Borough': 'NorthYork',\n   'Neighbourhood': 'Bayview Village',\n   'Latitude': 43.7869473,\n   'Longitude': -79.385975},\n  {'index': 4,\n   'PostalCode': 'M5M',\n   'Borough': 'NorthYork',\n   'Neighbourhood': 'Bedford Park / Lawrence Manor East',\n   'Latitude': 43.7332825,\n   'Longitude': -79.4197497},\n  {'index': 5,\n   'PostalCode': 'M5E',\n   'Borough': 'DowntownToronto',\n   'Neighbourhood': 'Berczy Park',\n   'Latitude': 43.6447708,\n   'Longitude': -79.3733064},\n  {'index': 6,\n   'PostalCode': 'M1N',\n   'Borough': 'Scarborough',\n   'Neighbourhood': 'Birch Cliff / Cliffside West',\n   'Latitude': 43.692657,\n   'Longitude': -79.2648481},\n  {'index': 7,\n   'PostalCode': 'M6K',\n   'Borough': 'WestToronto',\n   'Neighbourhood': 'Brockton / Parkdale Village / Exhibition Place',\n   'Latitude': 43.6368472,\n   'Longitude': -79.4281914},\n  {'index': 8,\n   'PostalCode': 'M7Y',\n   'Borough': 'EastToronto',\n   'Neighbourhood': 'Business reply mail Processing Centre',\n   'Latitude': 43.6627439,\n   'Longitude': -79.321558},\n  {'index': 9,\n   'PostalCode': 'M5V',\n   'Borough': 'DowntownToronto',\n   'Neighbourhood': 'CN Tower / King and Spadina / Railway Lands / Harbourfront West / Bathurst Quay / South Niagara / Island airport',\n   'Latitude': 43.6289467,\n   'Longitude': -79.3944199},\n  {'index': 10,\n   'PostalCode': 'M6E',\n   'Borough': 'York',\n   'Neighbourhood': 'Caledonia-Fairbanks',\n   'Latitude': 43.6890256,\n   'Longitude': -79.453512},\n  {'index': 11,\n   'PostalCode': 'M7R',\n   'Borough': 'Mississauga',\n   'Neighbourhood': 'Canada Post Gateway Processing Centre',\n   'Latitude': 43.6369656,\n   'Longitude': -79.615819},\n  {'index': 12,\n   'PostalCode': 'M1H',\n   'Borough': 'Scarborough',\n   'Neighbourhood': 'Cedarbrae',\n   'Latitude': 43.773136,\n   'Longitude': -79.2394761},\n  {'index': 13,\n   'PostalCode': 'M5G',\n   'Borough': 'DowntownToronto',\n   'Neighbourhood': 'Central Bay Street',\n   'Latitude': 43.6579524,\n   'Longitude': -79.3873826},\n  {'index': 14,\n   'PostalCode': 'M6G',\n   'Borough': 'DowntownToronto',\n   'Neighbourhood': 'Christie',\n   'Latitude': 43.669542,\n   'Longitude': -79.4225637},\n  {'index': 15,\n   'PostalCode': 'M4Y',\n   'Borough': 'DowntownToronto',\n   'Neighbourhood': 'Church and Wellesley',\n   'Latitude': 43.6658599,\n   'Longitude': -79.3831599},\n  {'index': 16,\n   'PostalCode': 'M1T',\n   'Borough': 'Scarborough',\n   'Neighbourhood': \"Clarks Corners / Tam O'Shanter / Sullivan\",\n   'Latitude': 43.7816375,\n   'Longitude': -79.3043021},\n  {'index': 17,\n   'PostalCode': 'M1M',\n   'Borough': 'Scarborough',\n   'Neighbourhood': 'Cliffside / Cliffcrest / Scarborough Village West',\n   'Latitude': 43.716316,\n   'Longitude': -79.2394761},\n  {'index': 18,\n   'PostalCode': 'M5L',\n   'Borough': 'DowntownToronto',\n   'Neighbourhood': 'Commerce Court / Victoria Hotel',\n   'Latitude': 43.6481985,\n   'Longitude': -79.3798169},\n  {'index': 19,\n   'PostalCode': 'M4S',\n   'Borough': 'CentralToronto',\n   'Neighbourhood': 'Davisville',\n   'Latitude': 43.7043244,\n   'Longitude': -79.3887901},\n  {'index': 20,\n   'PostalCode': 'M4P',\n   'Borough': 'CentralToronto',\n   'Neighbourhood': 'Davisville North',\n   'Latitude': 43.7127511,\n   'Longitude': -79.3901975},\n  {'index': 21,\n   'PostalCode': 'M6M',\n   'Borough': 'York',\n   'Neighbourhood': 'Del Ray / Mount Dennis / Keelsdale and Silverthorn',\n   'Latitude': 43.6911158,\n   'Longitude': -79.4760133},\n  {'index': 22,\n   'PostalCode': 'M3C',\n   'Borough': 'NorthYork',\n   'Neighbourhood': 'Don Mills',\n   'Latitude': 43.7258997,\n   'Longitude': -79.340923},\n  {'index': 23,\n   'PostalCode': 'M3B',\n   'Borough': 'NorthYork',\n   'Neighbourhood': 'Don Mills',\n   'Latitude': 43.7459058,\n   'Longitude': -79.352188},\n  {'index': 24,\n   'PostalCode': 'M1P',\n   'Borough': 'Scarborough',\n   'Neighbourhood': 'Dorset Park / Wexford Heights / Scarborough Town Centre',\n   'Latitude': 43.7574096,\n   'Longitude': -79.273304},\n  {'index': 25,\n   'PostalCode': 'M3M',\n   'Borough': 'NorthYork',\n   'Neighbourhood': 'Downsview',\n   'Latitude': 43.7284964,\n   'Longitude': -79.4956974},\n  {'index': 26,\n   'PostalCode': 'M3K',\n   'Borough': 'NorthYork',\n   'Neighbourhood': 'Downsview',\n   'Latitude': 43.7374732,\n   'Longitude': -79.4647633},\n  {'index': 27,\n   'PostalCode': 'M3L',\n   'Borough': 'NorthYork',\n   'Neighbourhood': 'Downsview',\n   'Latitude': 43.7390146,\n   'Longitude': -79.5069436},\n  {'index': 28,\n   'PostalCode': 'M3N',\n   'Borough': 'NorthYork',\n   'Neighbourhood': 'Downsview',\n   'Latitude': 43.7616313,\n   'Longitude': -79.5209994},\n  {'index': 29,\n   'PostalCode': 'M6H',\n   'Borough': 'WestToronto',\n   'Neighbourhood': 'Dufferin / Dovercourt Village',\n   'Latitude': 43.6690051,\n   'Longitude': -79.4422593},\n  {'index': 30,\n   'PostalCode': 'M4J',\n   'Borough': 'EastYork',\n   'Neighbourhood': 'East Toronto',\n   'Latitude': 43.685347,\n   'Longitude': -79.3381065},\n  {'index': 31,\n   'PostalCode': 'M9C',\n   'Borough': 'Etobicoke',\n   'Neighbourhood': 'Eringate / Bloordale Gardens / Old Burnhamthorpe / Markland Wood',\n   'Latitude': 43.6435152,\n   'Longitude': -79.5772008},\n  {'index': 32,\n   'PostalCode': 'M2J',\n   'Borough': 'NorthYork',\n   'Neighbourhood': 'Fairview / Henry Farm / Oriole',\n   'Latitude': 43.7785175,\n   'Longitude': -79.3465557},\n  {'index': 33,\n   'PostalCode': 'M5X',\n   'Borough': 'DowntownToronto',\n   'Neighbourhood': 'First Canadian Place / Underground city',\n   'Latitude': 43.6484292,\n   'Longitude': -79.3822802},\n  {'index': 34,\n   'PostalCode': 'M5P',\n   'Borough': 'CentralToronto',\n   'Neighbourhood': 'Forest Hill North & West',\n   'Latitude': 43.6969476,\n   'Longitude': -79.4113072},\n  {'index': 35,\n   'PostalCode': 'M5B',\n   'Borough': 'DowntownToronto',\n   'Neighbourhood': 'Garden District / Ryerson',\n   'Latitude': 43.6571618,\n   'Longitude': -79.3789371},\n  {'index': 36,\n   'PostalCode': 'M6B',\n   'Borough': 'NorthYork',\n   'Neighbourhood': 'Glencairn',\n   'Latitude': 43.709577,\n   'Longitude': -79.4450726},\n  {'index': 37,\n   'PostalCode': 'M1L',\n   'Borough': 'Scarborough',\n   'Neighbourhood': 'Golden Mile / Clairlea / Oakridge',\n   'Latitude': 43.7111117,\n   'Longitude': -79.2845772},\n  {'index': 38,\n   'PostalCode': 'M1E',\n   'Borough': 'Scarborough',\n   'Neighbourhood': 'Guildwood / Morningside / West Hill',\n   'Latitude': 43.7635726,\n   'Longitude': -79.1887115},\n  {'index': 39,\n   'PostalCode': 'M5J',\n   'Borough': 'DowntownToronto',\n   'Neighbourhood': 'Harbourfront East / Union Station / Toronto Islands',\n   'Latitude': 43.6408157,\n   'Longitude': -79.3817523},\n  {'index': 40,\n   'PostalCode': 'M6P',\n   'Borough': 'WestToronto',\n   'Neighbourhood': 'High Park / The Junction South',\n   'Latitude': 43.6616083,\n   'Longitude': -79.4647633},\n  {'index': 41,\n   'PostalCode': 'M2H',\n   'Borough': 'NorthYork',\n   'Neighbourhood': 'Hillcrest Village',\n   'Latitude': 43.8037622,\n   'Longitude': -79.3634517},\n  {'index': 42,\n   'PostalCode': 'M9L',\n   'Borough': 'NorthYork',\n   'Neighbourhood': 'Humber Summit',\n   'Latitude': 43.7563033,\n   'Longitude': -79.5659633},\n  {'index': 43,\n   'PostalCode': 'M9M',\n   'Borough': 'NorthYork',\n   'Neighbourhood': 'Humberlea / Emery',\n   'Latitude': 43.7247659,\n   'Longitude': -79.5322424},\n  {'index': 44,\n   'PostalCode': 'M6C',\n   'Borough': 'York',\n   'Neighbourhood': 'Humewood-Cedarvale',\n   'Latitude': 43.6937813,\n   'Longitude': -79.4281914},\n  {'index': 45,\n   'PostalCode': 'M4L',\n   'Borough': 'EastToronto',\n   'Neighbourhood': 'India Bazaar / The Beaches West',\n   'Latitude': 43.6689985,\n   'Longitude': -79.3155716},\n  {'index': 46,\n   'PostalCode': 'M9A',\n   'Borough': 'Etobicoke',\n   'Neighbourhood': 'Islington Avenue',\n   'Latitude': 43.6678556,\n   'Longitude': -79.5322424},\n  {'index': 47,\n   'PostalCode': 'M1K',\n   'Borough': 'Scarborough',\n   'Neighbourhood': 'Kennedy Park / Ionview / East Birchmount Park',\n   'Latitude': 43.7279292,\n   'Longitude': -79.2620294},\n  {'index': 48,\n   'PostalCode': 'M5T',\n   'Borough': 'DowntownToronto',\n   'Neighbourhood': 'Kensington Market / Chinatown / Grange Park',\n   'Latitude': 43.6532057,\n   'Longitude': -79.4000493},\n  {'index': 49,\n   'PostalCode': 'M9R',\n   'Borough': 'Etobicoke',\n   'Neighbourhood': 'Kingsview Village / St. Phillips / Martin Grove Gardens / Richview Gardens',\n   'Latitude': 43.6889054,\n   'Longitude': -79.5547244},\n  {'index': 50,\n   'PostalCode': 'M6A',\n   'Borough': 'NorthYork',\n   'Neighbourhood': 'Lawrence Manor / Lawrence Heights',\n   'Latitude': 43.718518,\n   'Longitude': -79.4647633},\n  {'index': 51,\n   'PostalCode': 'M4N',\n   'Borough': 'CentralToronto',\n   'Neighbourhood': 'Lawrence Park',\n   'Latitude': 43.7280205,\n   'Longitude': -79.3887901},\n  {'index': 52,\n   'PostalCode': 'M4G',\n   'Borough': 'EastYork',\n   'Neighbourhood': 'Leaside',\n   'Latitude': 43.7090604,\n   'Longitude': -79.3634517},\n  {'index': 53,\n   'PostalCode': 'M6J',\n   'Borough': 'WestToronto',\n   'Neighbourhood': 'Little Portugal / Trinity',\n   'Latitude': 43.6479267,\n   'Longitude': -79.4197497},\n  {'index': 54,\n   'PostalCode': 'M1B',\n   'Borough': 'Scarborough',\n   'Neighbourhood': 'Malvern / Rouge',\n   'Latitude': 43.8066863,\n   'Longitude': -79.1943534},\n  {'index': 55,\n   'PostalCode': 'M1V',\n   'Borough': 'Scarborough',\n   'Neighbourhood': \"Milliken / Agincourt North / Steeles East / L'Amoreaux East\",\n   'Latitude': 43.8152522,\n   'Longitude': -79.2845772},\n  {'index': 56,\n   'PostalCode': 'M8Z',\n   'Borough': 'Etobicoke',\n   'Neighbourhood': 'Mimico NW / The Queensway West / South of Bloor / Kingsway Park South West / Royal York South West',\n   'Latitude': 43.6288408,\n   'Longitude': -79.5209994},\n  {'index': 57,\n   'PostalCode': 'M4T',\n   'Borough': 'CentralToronto',\n   'Neighbourhood': 'Moore Park / Summerhill East',\n   'Latitude': 43.6895743,\n   'Longitude': -79.3831599},\n  {'index': 58,\n   'PostalCode': 'M8V',\n   'Borough': 'Etobicoke',\n   'Neighbourhood': 'New Toronto / Mimico South / Humber Bay Shores',\n   'Latitude': 43.6056466,\n   'Longitude': -79.5013207},\n  {'index': 59,\n   'PostalCode': 'M6L',\n   'Borough': 'NorthYork',\n   'Neighbourhood': 'North Park / Maple Leaf Park / Upwood Park',\n   'Latitude': 43.7137562,\n   'Longitude': -79.4900738},\n  {'index': 60,\n   'PostalCode': 'M4R',\n   'Borough': 'CentralToronto',\n   'Neighbourhood': 'North Toronto West',\n   'Latitude': 43.7153834,\n   'Longitude': -79.4056784},\n  {'index': 61,\n   'PostalCode': 'M9W',\n   'Borough': 'Etobicoke',\n   'Neighbourhood': 'Northwest',\n   'Latitude': 43.7067483,\n   'Longitude': -79.5940544},\n  {'index': 62,\n   'PostalCode': 'M3J',\n   'Borough': 'NorthYork',\n   'Neighbourhood': 'Northwood Park / York University',\n   'Latitude': 43.7679803,\n   'Longitude': -79.4872619},\n  {'index': 63,\n   'PostalCode': 'M8Y',\n   'Borough': 'Etobicoke',\n   'Neighbourhood': \"Old Mill South / King's Mill Park / Sunnylea / Humber Bay / Mimico NE / The Queensway East / Royal York South East / Kingsway Park South East\",\n   'Latitude': 43.6362579,\n   'Longitude': -79.4985091},\n  {'index': 64,\n   'PostalCode': 'M6R',\n   'Borough': 'WestToronto',\n   'Neighbourhood': 'Parkdale / Roncesvalles',\n   'Latitude': 43.6489597,\n   'Longitude': -79.456325},\n  {'index': 65,\n   'PostalCode': 'M4B',\n   'Borough': 'EastYork',\n   'Neighbourhood': 'Parkview Hill / Woodbine Gardens',\n   'Latitude': 43.7063972,\n   'Longitude': -79.309937},\n  {'index': 66,\n   'PostalCode': 'M3A',\n   'Borough': 'NorthYork',\n   'Neighbourhood': 'Parkwoods',\n   'Latitude': 43.7532586,\n   'Longitude': -79.3296565},\n  {'index': 67,\n   'PostalCode': 'M7A',\n   'Borough': 'DowntownToronto',\n   'Neighbourhood': \"Queen's Park / Ontario Provincial Government\",\n   'Latitude': 43.6623015,\n   'Longitude': -79.3894938},\n  {'index': 68,\n   'PostalCode': 'M5A',\n   'Borough': 'DowntownToronto',\n   'Neighbourhood': 'Regent Park / Harbourfront',\n   'Latitude': 43.6542599,\n   'Longitude': -79.3606359},\n  {'index': 69,\n   'PostalCode': 'M5H',\n   'Borough': 'DowntownToronto',\n   'Neighbourhood': 'Richmond / Adelaide / King',\n   'Latitude': 43.6505712,\n   'Longitude': -79.3845675},\n  {'index': 70,\n   'PostalCode': 'M4W',\n   'Borough': 'DowntownToronto',\n   'Neighbourhood': 'Rosedale',\n   'Latitude': 43.6795626,\n   'Longitude': -79.3775294},\n  {'index': 71,\n   'PostalCode': 'M5N',\n   'Borough': 'CentralToronto',\n   'Neighbourhood': 'Roselawn',\n   'Latitude': 43.7116948,\n   'Longitude': -79.4169356},\n  {'index': 72,\n   'PostalCode': 'M1C',\n   'Borough': 'Scarborough',\n   'Neighbourhood': 'Rouge Hill / Port Union / Highland Creek',\n   'Latitude': 43.7845351,\n   'Longitude': -79.1604971},\n  {'index': 73,\n   'PostalCode': 'M6S',\n   'Borough': 'WestToronto',\n   'Neighbourhood': 'Runnymede / Swansea',\n   'Latitude': 43.6515706,\n   'Longitude': -79.4844499},\n  {'index': 74,\n   'PostalCode': 'M6N',\n   'Borough': 'York',\n   'Neighbourhood': 'Runnymede / The Junction North',\n   'Latitude': 43.6731853,\n   'Longitude': -79.4872619},\n  {'index': 75,\n   'PostalCode': 'M1J',\n   'Borough': 'Scarborough',\n   'Neighbourhood': 'Scarborough Village',\n   'Latitude': 43.7447342,\n   'Longitude': -79.2394761},\n  {'index': 76,\n   'PostalCode': 'M9V',\n   'Borough': 'Etobicoke',\n   'Neighbourhood': 'South Steeles / Silverstone / Humbergate / Jamestown / Mount Olive / Beaumond Heights / Thistletown / Albion Gardens',\n   'Latitude': 43.7394164,\n   'Longitude': -79.5884369},\n  {'index': 77,\n   'PostalCode': 'M5C',\n   'Borough': 'DowntownToronto',\n   'Neighbourhood': 'St. James Town',\n   'Latitude': 43.6514939,\n   'Longitude': -79.3754179},\n  {'index': 78,\n   'PostalCode': 'M4X',\n   'Borough': 'DowntownToronto',\n   'Neighbourhood': 'St. James Town / Cabbagetown',\n   'Latitude': 43.667967,\n   'Longitude': -79.3676753},\n  {'index': 79,\n   'PostalCode': 'M1W',\n   'Borough': 'Scarborough',\n   'Neighbourhood': \"Steeles West / L'Amoreaux West\",\n   'Latitude': 43.7995252,\n   'Longitude': -79.3183887},\n  {'index': 80,\n   'PostalCode': 'M5W',\n   'Borough': 'DowntownToronto',\n   'Neighbourhood': 'Stn A PO Boxes',\n   'Latitude': 43.6464352,\n   'Longitude': -79.374846},\n  {'index': 81,\n   'PostalCode': 'M4M',\n   'Borough': 'EastToronto',\n   'Neighbourhood': 'Studio District',\n   'Latitude': 43.6595255,\n   'Longitude': -79.340923},\n  {'index': 82,\n   'PostalCode': 'M4V',\n   'Borough': 'CentralToronto',\n   'Neighbourhood': 'Summerhill West / Rathnelly / South Hill / Forest Hill SE / Deer Park',\n   'Latitude': 43.6864123,\n   'Longitude': -79.4000493},\n  {'index': 83,\n   'PostalCode': 'M5R',\n   'Borough': 'CentralToronto',\n   'Neighbourhood': 'The Annex / North Midtown / Yorkville',\n   'Latitude': 43.6727097,\n   'Longitude': -79.4056784},\n  {'index': 84,\n   'PostalCode': 'M4E',\n   'Borough': 'EastToronto',\n   'Neighbourhood': 'The Beaches',\n   'Latitude': 43.6763574,\n   'Longitude': -79.2930312},\n  {'index': 85,\n   'PostalCode': 'M4K',\n   'Borough': 'EastToronto',\n   'Neighbourhood': 'The Danforth West / Riverdale',\n   'Latitude': 43.6795571,\n   'Longitude': -79.352188},\n  {'index': 86,\n   'PostalCode': 'M8X',\n   'Borough': 'Etobicoke',\n   'Neighbourhood': 'The Kingsway / Montgomery Road  / Old Mill North',\n   'Latitude': 43.6536536,\n   'Longitude': -79.5069436},\n  {'index': 87,\n   'PostalCode': 'M4H',\n   'Borough': 'EastYork',\n   'Neighbourhood': 'Thorncliffe Park',\n   'Latitude': 43.7053689,\n   'Longitude': -79.3493719},\n  {'index': 88,\n   'PostalCode': 'M5K',\n   'Borough': 'DowntownToronto',\n   'Neighbourhood': 'Toronto Dominion Centre / Design Exchange',\n   'Latitude': 43.6471768,\n   'Longitude': -79.3815764},\n  {'index': 89,\n   'PostalCode': 'M5S',\n   'Borough': 'DowntownToronto',\n   'Neighbourhood': 'University of Toronto / Harbord',\n   'Latitude': 43.6626956,\n   'Longitude': -79.4000493},\n  {'index': 90,\n   'PostalCode': 'M1X',\n   'Borough': 'Scarborough',\n   'Neighbourhood': 'Upper Rouge',\n   'Latitude': 43.8361247,\n   'Longitude': -79.2056361},\n  {'index': 91,\n   'PostalCode': 'M4A',\n   'Borough': 'NorthYork',\n   'Neighbourhood': 'Victoria Village',\n   'Latitude': 43.7258823,\n   'Longitude': -79.3155716},\n  {'index': 92,\n   'PostalCode': 'M9B',\n   'Borough': 'Etobicoke',\n   'Neighbourhood': 'West Deane Park / Princess Gardens / Martin Grove / Islington / Cloverdale',\n   'Latitude': 43.6509432,\n   'Longitude': -79.5547244},\n  {'index': 93,\n   'PostalCode': 'M9P',\n   'Borough': 'Etobicoke',\n   'Neighbourhood': 'Westmount',\n   'Latitude': 43.696319,\n   'Longitude': -79.5322424},\n  {'index': 94,\n   'PostalCode': 'M9N',\n   'Borough': 'York',\n   'Neighbourhood': 'Weston',\n   'Latitude': 43.706876,\n   'Longitude': -79.5181884},\n  {'index': 95,\n   'PostalCode': 'M1R',\n   'Borough': 'Scarborough',\n   'Neighbourhood': 'Wexford / Maryvale',\n   'Latitude': 43.7500715,\n   'Longitude': -79.2958491},\n  {'index': 96,\n   'PostalCode': 'M2N',\n   'Borough': 'NorthYork',\n   'Neighbourhood': 'Willowdale',\n   'Latitude': 43.7701199,\n   'Longitude': -79.4084928},\n  {'index': 97,\n   'PostalCode': 'M2R',\n   'Borough': 'NorthYork',\n   'Neighbourhood': 'Willowdale',\n   'Latitude': 43.7827364,\n   'Longitude': -79.4422593},\n  {'index': 98,\n   'PostalCode': 'M2M',\n   'Borough': 'NorthYork',\n   'Neighbourhood': 'Willowdale / Newtonbrook',\n   'Latitude': 43.789053,\n   'Longitude': -79.4084928},\n  {'index': 99,\n   'PostalCode': 'M1G',\n   'Borough': 'Scarborough',\n   'Neighbourhood': 'Woburn',\n   'Latitude': 43.7709921,\n   'Longitude': -79.2169174},\n  {'index': 100,\n   'PostalCode': 'M4C',\n   'Borough': 'EastYork',\n   'Neighbourhood': 'Woodbine Heights',\n   'Latitude': 43.6953439,\n   'Longitude': -79.3183887},\n  {'index': 101,\n   'PostalCode': 'M2L',\n   'Borough': 'NorthYork',\n   'Neighbourhood': 'York Mills / Silver Hills',\n   'Latitude': 43.7574902,\n   'Longitude': -79.3747141},\n  {'index': 102,\n   'PostalCode': 'M2P',\n   'Borough': 'NorthYork',\n   'Neighbourhood': 'York Mills West',\n   'Latitude': 43.7527583,\n   'Longitude': -79.4000493}]}"
                    },
                    "execution_count": 78,
                    "metadata": {},
                    "output_type": "execute_result"
                }
            ],
            "source": "Toronto_data"
        },
        {
            "cell_type": "code",
            "execution_count": 79,
            "metadata": {},
            "outputs": [
                {
                    "data": {
                        "text/plain": "{'index': 0,\n 'PostalCode': 'M1S',\n 'Borough': 'Scarborough',\n 'Neighbourhood': 'Agincourt',\n 'Latitude': 43.7942003,\n 'Longitude': -79.2620294}"
                    },
                    "execution_count": 79,
                    "metadata": {},
                    "output_type": "execute_result"
                }
            ],
            "source": "neighborhoods_data = Toronto_data['data']\nneighborhoods_data[0]\n#Let's take a look at the first item in this list."
        },
        {
            "cell_type": "code",
            "execution_count": 80,
            "metadata": {},
            "outputs": [
                {
                    "name": "stdout",
                    "output_type": "stream",
                    "text": "<class 'pandas.core.frame.DataFrame'>\nRangeIndex: 103 entries, 0 to 102\nData columns (total 5 columns):\nPostalCode       103 non-null object\nBorough          103 non-null object\nNeighbourhood    103 non-null object\nLatitude         103 non-null float64\nLongitude        103 non-null float64\ndtypes: float64(2), object(3)\nmemory usage: 4.1+ KB\n"
                },
                {
                    "data": {
                        "text/plain": "(103, 5)"
                    },
                    "execution_count": 80,
                    "metadata": {},
                    "output_type": "execute_result"
                }
            ],
            "source": "sorted_dataframe.info()\nsorted_dataframe.shape"
        },
        {
            "cell_type": "code",
            "execution_count": 81,
            "metadata": {},
            "outputs": [
                {
                    "data": {
                        "text/html": "<div>\n<style scoped>\n    .dataframe tbody tr th:only-of-type {\n        vertical-align: middle;\n    }\n\n    .dataframe tbody tr th {\n        vertical-align: top;\n    }\n\n    .dataframe thead th {\n        text-align: right;\n    }\n</style>\n<table border=\"1\" class=\"dataframe\">\n  <thead>\n    <tr style=\"text-align: right;\">\n      <th></th>\n      <th>PostalCode</th>\n      <th>Borough</th>\n      <th>Neighbourhood</th>\n      <th>Latitude</th>\n      <th>Longitude</th>\n    </tr>\n  </thead>\n  <tbody>\n    <tr>\n      <th>0</th>\n      <td>M1S</td>\n      <td>Scarborough</td>\n      <td>Agincourt</td>\n      <td>43.794200</td>\n      <td>-79.262029</td>\n    </tr>\n    <tr>\n      <th>1</th>\n      <td>M8W</td>\n      <td>Etobicoke</td>\n      <td>Alderwood / Long Branch</td>\n      <td>43.602414</td>\n      <td>-79.543484</td>\n    </tr>\n    <tr>\n      <th>2</th>\n      <td>M3H</td>\n      <td>NorthYork</td>\n      <td>Bathurst Manor / Wilson Heights / Downsview North</td>\n      <td>43.754328</td>\n      <td>-79.442259</td>\n    </tr>\n    <tr>\n      <th>3</th>\n      <td>M2K</td>\n      <td>NorthYork</td>\n      <td>Bayview Village</td>\n      <td>43.786947</td>\n      <td>-79.385975</td>\n    </tr>\n    <tr>\n      <th>4</th>\n      <td>M5M</td>\n      <td>NorthYork</td>\n      <td>Bedford Park / Lawrence Manor East</td>\n      <td>43.733283</td>\n      <td>-79.419750</td>\n    </tr>\n  </tbody>\n</table>\n</div>",
                        "text/plain": "  PostalCode      Borough                                      Neighbourhood  \\\n0        M1S  Scarborough                                          Agincourt   \n1        M8W    Etobicoke                            Alderwood / Long Branch   \n2        M3H    NorthYork  Bathurst Manor / Wilson Heights / Downsview North   \n3        M2K    NorthYork                                    Bayview Village   \n4        M5M    NorthYork                 Bedford Park / Lawrence Manor East   \n\n    Latitude  Longitude  \n0  43.794200 -79.262029  \n1  43.602414 -79.543484  \n2  43.754328 -79.442259  \n3  43.786947 -79.385975  \n4  43.733283 -79.419750  "
                    },
                    "execution_count": 81,
                    "metadata": {},
                    "output_type": "execute_result"
                }
            ],
            "source": "sorted_dataframe.head()"
        },
        {
            "cell_type": "code",
            "execution_count": 82,
            "metadata": {},
            "outputs": [
                {
                    "name": "stdout",
                    "output_type": "stream",
                    "text": "The dataframe has 10 boroughs and 103 neighborhoods.\n"
                }
            ],
            "source": "print('The dataframe has {} boroughs and {} neighborhoods.'.format(\n        len(sorted_dataframe['Borough'].unique()),\n        sorted_dataframe.shape[0]\n    )\n)"
        },
        {
            "cell_type": "code",
            "execution_count": 83,
            "metadata": {},
            "outputs": [
                {
                    "name": "stderr",
                    "output_type": "stream",
                    "text": "/opt/conda/envs/Python36/lib/python3.6/site-packages/ipykernel/__main__.py:3: DeprecationWarning: Using Nominatim with the default \"geopy/1.21.0\" `user_agent` is strongly discouraged, as it violates Nominatim's ToS https://operations.osmfoundation.org/policies/nominatim/ and may possibly cause 403 and 429 HTTP errors. Please specify a custom `user_agent` with `Nominatim(user_agent=\"my-application\")` or by overriding the default `user_agent`: `geopy.geocoders.options.default_user_agent = \"my-application\"`. In geopy 2.0 this will become an exception.\n  app.launch_new_instance()\n"
                },
                {
                    "name": "stdout",
                    "output_type": "stream",
                    "text": "The geograpical coordinate of Adelaide are -34.9281805, 138.5999312.\n"
                }
            ],
            "source": "address = 'Adelaide'\n\ngeolocator = Nominatim()\nlocation = geolocator.geocode(address)\nlatitude = location.latitude\nlongitude = location.longitude\nprint('The geograpical coordinate of Adelaide are {}, {}.'.format(latitude, longitude))"
        },
        {
            "cell_type": "code",
            "execution_count": 86,
            "metadata": {},
            "outputs": [],
            "source": "import pandas as pd\nimport folium\n\n#grab a random sample from df\nsubset_of_df = sorted_dataframe.sample(n=11)\nmap_test = folium.Map(location=[subset_of_df['Latitude'].mean(), \n                                subset_of_df['Longitude'].mean()], \n                      zoom_start=10)\n#creating a Marker for each point in df_sample. Each point will get a popup with their zip\nfor row in subset_of_df.itertuples():\n    map_test.add_child(folium.Marker(location=[row.Latitude ,row.Longitude],\n           popup=row.Borough))\n\n    \n#map_test\n\n#open map_test.html in browser\nmap_test.save(\"map_test.html\")\n\n# if you cannot generate the maps open PGA_map_*.html from the zip file"
        },
        {
            "cell_type": "markdown",
            "metadata": {},
            "source": "Test on Borough data, map with MarkerClusters:"
        },
        {
            "cell_type": "code",
            "execution_count": 87,
            "metadata": {},
            "outputs": [],
            "source": "from folium.plugins import MarkerCluster\nmap_borough = folium.Map(location=[subset_of_df['Latitude'].mean(), \n subset_of_df['Longitude'].mean()], \n zoom_start=10)\nmc = MarkerCluster()\n#creating a Marker for each point in df_sample. Each point will get a popup with their zip\nfor row in subset_of_df.itertuples():\n    mc.add_child(folium.Marker(location=[row.Latitude,  row.Longitude],\n                 popup=row.Borough))\n    map_borough.add_child(mc)\n\n\n#map_borough\n\n#open in map_borough.html browser \nmap_borough.save(\"map_borough.html\")\n\n#if you cannot generate the maps open PGA_map_*.html from the zip file"
        },
        {
            "cell_type": "markdown",
            "metadata": {},
            "source": "3.2. Replicate the same analysis with the neighborhoods in Toronto."
        },
        {
            "cell_type": "code",
            "execution_count": 88,
            "metadata": {},
            "outputs": [],
            "source": "import pandas as pd\nimport folium\n\n\n\n#grab a random sample from df\ntoronto_n = sorted_dataframe.sample(n=20)\nmap_toronto = folium.Map(location=[toronto_n['Latitude'].mean(), \n                                toronto_n['Longitude'].mean()], \n                      zoom_start=10)\n#creating a Marker for each point in df_sample. Each point will get a popup with their zip\nfor row in toronto_n.itertuples():\n    map_toronto.add_child(folium.Marker(location=[row.Latitude ,row.Longitude],\n           popup=row.Neighbourhood))\n\n    \nmap_toronto \n\n#open map_toronto.html in browser\n\nmap_toronto.save(\"map_toronto20.html\")\n\n#if you cannot generate the maps open PGA_map_*.html from the zip file"
        },
        {
            "cell_type": "markdown",
            "metadata": {},
            "source": "3.3 Used the Foursquare API to explore neighborhoods in Toronto."
        },
        {
            "cell_type": "code",
            "execution_count": 89,
            "metadata": {},
            "outputs": [
                {
                    "data": {
                        "text/html": "<div>\n<style scoped>\n    .dataframe tbody tr th:only-of-type {\n        vertical-align: middle;\n    }\n\n    .dataframe tbody tr th {\n        vertical-align: top;\n    }\n\n    .dataframe thead th {\n        text-align: right;\n    }\n</style>\n<table border=\"1\" class=\"dataframe\">\n  <thead>\n    <tr style=\"text-align: right;\">\n      <th></th>\n      <th>PostalCode</th>\n      <th>Borough</th>\n      <th>Neighbourhood</th>\n      <th>Latitude</th>\n      <th>Longitude</th>\n    </tr>\n  </thead>\n  <tbody>\n    <tr>\n      <th>0</th>\n      <td>M1S</td>\n      <td>Scarborough</td>\n      <td>Agincourt</td>\n      <td>43.794200</td>\n      <td>-79.262029</td>\n    </tr>\n    <tr>\n      <th>1</th>\n      <td>M8W</td>\n      <td>Etobicoke</td>\n      <td>Alderwood / Long Branch</td>\n      <td>43.602414</td>\n      <td>-79.543484</td>\n    </tr>\n    <tr>\n      <th>2</th>\n      <td>M3H</td>\n      <td>NorthYork</td>\n      <td>Bathurst Manor / Wilson Heights / Downsview North</td>\n      <td>43.754328</td>\n      <td>-79.442259</td>\n    </tr>\n    <tr>\n      <th>3</th>\n      <td>M2K</td>\n      <td>NorthYork</td>\n      <td>Bayview Village</td>\n      <td>43.786947</td>\n      <td>-79.385975</td>\n    </tr>\n    <tr>\n      <th>4</th>\n      <td>M5M</td>\n      <td>NorthYork</td>\n      <td>Bedford Park / Lawrence Manor East</td>\n      <td>43.733283</td>\n      <td>-79.419750</td>\n    </tr>\n  </tbody>\n</table>\n</div>",
                        "text/plain": "  PostalCode      Borough                                      Neighbourhood  \\\n0        M1S  Scarborough                                          Agincourt   \n1        M8W    Etobicoke                            Alderwood / Long Branch   \n2        M3H    NorthYork  Bathurst Manor / Wilson Heights / Downsview North   \n3        M2K    NorthYork                                    Bayview Village   \n4        M5M    NorthYork                 Bedford Park / Lawrence Manor East   \n\n    Latitude  Longitude  \n0  43.794200 -79.262029  \n1  43.602414 -79.543484  \n2  43.754328 -79.442259  \n3  43.786947 -79.385975  \n4  43.733283 -79.419750  "
                    },
                    "execution_count": 89,
                    "metadata": {},
                    "output_type": "execute_result"
                }
            ],
            "source": "sorted_dataframe.head()"
        },
        {
            "cell_type": "code",
            "execution_count": 91,
            "metadata": {},
            "outputs": [
                {
                    "name": "stdout",
                    "output_type": "stream",
                    "text": "<class 'pandas.core.frame.DataFrame'>\nRangeIndex: 103 entries, 0 to 102\nData columns (total 5 columns):\nPostalCode       103 non-null object\nBorough          103 non-null object\nNeighbourhood    103 non-null object\nLatitude         103 non-null float64\nLongitude        103 non-null float64\ndtypes: float64(2), object(3)\nmemory usage: 4.1+ KB\n"
                }
            ],
            "source": "sorted_dataframe.info()"
        },
        {
            "cell_type": "code",
            "execution_count": 92,
            "metadata": {},
            "outputs": [
                {
                    "name": "stdout",
                    "output_type": "stream",
                    "text": "The dataframe has 10 boroughs and 103 neighborhoods.\n"
                }
            ],
            "source": "print('The dataframe has {} boroughs and {} neighborhoods.'.format(\n        len(sorted_dataframe['Borough'].unique()),\n        sorted_dataframe.shape[0]\n    )\n)"
        },
        {
            "cell_type": "code",
            "execution_count": 93,
            "metadata": {},
            "outputs": [
                {
                    "name": "stdout",
                    "output_type": "stream",
                    "text": "The geograpical coordinate of Toronto are 43.6534817, -79.3839347.\n"
                },
                {
                    "name": "stderr",
                    "output_type": "stream",
                    "text": "/opt/conda/envs/Python36/lib/python3.6/site-packages/ipykernel/__main__.py:3: DeprecationWarning: Using Nominatim with the default \"geopy/1.21.0\" `user_agent` is strongly discouraged, as it violates Nominatim's ToS https://operations.osmfoundation.org/policies/nominatim/ and may possibly cause 403 and 429 HTTP errors. Please specify a custom `user_agent` with `Nominatim(user_agent=\"my-application\")` or by overriding the default `user_agent`: `geopy.geocoders.options.default_user_agent = \"my-application\"`. In geopy 2.0 this will become an exception.\n  app.launch_new_instance()\n"
                }
            ],
            "source": "address = 'Toronto, CA'\n\ngeolocator = Nominatim()\nlocation = geolocator.geocode(address)\nlatitude = location.latitude\nlongitude = location.longitude\nprint('The geograpical coordinate of Toronto are {}, {}.'.format(latitude, longitude))"
        },
        {
            "cell_type": "markdown",
            "metadata": {},
            "source": "Create a map of Toronto\nwith its neighborhoods superimposed on top.\n\nif you cannot replicate the lab open PGAmap*.html from the zip file"
        },
        {
            "cell_type": "code",
            "execution_count": 94,
            "metadata": {},
            "outputs": [],
            "source": "# create map of Toronto using latitude and longitude values\nmap_toronto_neighbourhoods = folium.Map(location=[latitude, longitude], zoom_start=10)\n\n# add markers to map\nfor lat, lng, borough, neighbourhood in zip(sorted_dataframe['Latitude'], sorted_dataframe['Longitude'], sorted_dataframe['Borough'], sorted_dataframe['Neighbourhood']):\n    label = '{}, {}'.format(neighbourhood, borough)\n    label = folium.Popup(label, parse_html=True)\n    folium.CircleMarker(\n        [lat, lng],\n        radius=2,\n        popup=label,\n        color='blue',\n        fill=True,\n        fill_color='#3186cc',\n        fill_opacity=0.7,\n        parse_html=False).add_to(map_toronto_neighbourhoods)  \n    \nmap_toronto_neighbourhoods\n\nmap_toronto_neighbourhoods.save(\"map_toronto_neighbourhoods.html\")\n\n#open map_toronto_neighbourhoods.html in browser\n#if you cannot generate the maps open PGA_map_*.html from the zip file"
        },
        {
            "cell_type": "code",
            "execution_count": 95,
            "metadata": {},
            "outputs": [
                {
                    "name": "stdout",
                    "output_type": "stream",
                    "text": "The geograpical coordinates of York, Toronto are 43.67910515, -79.49118414007154.\n"
                },
                {
                    "name": "stderr",
                    "output_type": "stream",
                    "text": "/opt/conda/envs/Python36/lib/python3.6/site-packages/ipykernel/__main__.py:3: DeprecationWarning: Using Nominatim with the default \"geopy/1.21.0\" `user_agent` is strongly discouraged, as it violates Nominatim's ToS https://operations.osmfoundation.org/policies/nominatim/ and may possibly cause 403 and 429 HTTP errors. Please specify a custom `user_agent` with `Nominatim(user_agent=\"my-application\")` or by overriding the default `user_agent`: `geopy.geocoders.options.default_user_agent = \"my-application\"`. In geopy 2.0 this will become an exception.\n  app.launch_new_instance()\n"
                }
            ],
            "source": "address = 'York, Toronto'\n\ngeolocator = Nominatim()\nlocation = geolocator.geocode(address)\nlatitude = location.latitude\nlongitude = location.longitude\nprint('The geograpical coordinates of York, Toronto are {}, {}.'.format(latitude, longitude))"
        },
        {
            "cell_type": "code",
            "execution_count": 96,
            "metadata": {},
            "outputs": [
                {
                    "data": {
                        "text/html": "<div>\n<style scoped>\n    .dataframe tbody tr th:only-of-type {\n        vertical-align: middle;\n    }\n\n    .dataframe tbody tr th {\n        vertical-align: top;\n    }\n\n    .dataframe thead th {\n        text-align: right;\n    }\n</style>\n<table border=\"1\" class=\"dataframe\">\n  <thead>\n    <tr style=\"text-align: right;\">\n      <th></th>\n      <th>PostalCode</th>\n      <th>Borough</th>\n      <th>Neighbourhood</th>\n      <th>Latitude</th>\n      <th>Longitude</th>\n    </tr>\n  </thead>\n  <tbody>\n    <tr>\n      <th>0</th>\n      <td>M6E</td>\n      <td>York</td>\n      <td>Caledonia-Fairbanks</td>\n      <td>43.689026</td>\n      <td>-79.453512</td>\n    </tr>\n    <tr>\n      <th>1</th>\n      <td>M6M</td>\n      <td>York</td>\n      <td>Del Ray / Mount Dennis / Keelsdale and Silvert...</td>\n      <td>43.691116</td>\n      <td>-79.476013</td>\n    </tr>\n    <tr>\n      <th>2</th>\n      <td>M6C</td>\n      <td>York</td>\n      <td>Humewood-Cedarvale</td>\n      <td>43.693781</td>\n      <td>-79.428191</td>\n    </tr>\n    <tr>\n      <th>3</th>\n      <td>M6N</td>\n      <td>York</td>\n      <td>Runnymede / The Junction North</td>\n      <td>43.673185</td>\n      <td>-79.487262</td>\n    </tr>\n    <tr>\n      <th>4</th>\n      <td>M9N</td>\n      <td>York</td>\n      <td>Weston</td>\n      <td>43.706876</td>\n      <td>-79.518188</td>\n    </tr>\n  </tbody>\n</table>\n</div>",
                        "text/plain": "  PostalCode Borough                                      Neighbourhood  \\\n0        M6E    York                                Caledonia-Fairbanks   \n1        M6M    York  Del Ray / Mount Dennis / Keelsdale and Silvert...   \n2        M6C    York                                 Humewood-Cedarvale   \n3        M6N    York                     Runnymede / The Junction North   \n4        M9N    York                                             Weston   \n\n    Latitude  Longitude  \n0  43.689026 -79.453512  \n1  43.691116 -79.476013  \n2  43.693781 -79.428191  \n3  43.673185 -79.487262  \n4  43.706876 -79.518188  "
                    },
                    "execution_count": 96,
                    "metadata": {},
                    "output_type": "execute_result"
                }
            ],
            "source": "york_data = sorted_dataframe[sorted_dataframe['Borough'] == 'York'].reset_index(drop=True)\nyork_data"
        },
        {
            "cell_type": "code",
            "execution_count": 97,
            "metadata": {},
            "outputs": [],
            "source": "# create map of Manhattan using latitude and longitude values\nmap_york_toronto = folium.Map(location=[latitude, longitude], zoom_start=11)\n\n# add markers to map\nfor lat, lng, label in zip(york_data['Latitude'], york_data['Longitude'], york_data['Neighbourhood']):\n    label = folium.Popup(label, parse_html=True)\n    folium.CircleMarker(\n        [lat, lng],\n        radius=5,\n        popup=label,\n        color='blue',\n        fill=True,\n        fill_color='#3186cc',\n        fill_opacity=0.7,\n        parse_html=False).add_to(map_york_toronto)  \n    \nmap_york_toronto\n\nmap_york_toronto.save(\"map_york_toronto.html\")\n\n#open map_york_toronto.html in browser\n#if you cannot generate the maps open PGA_map_*.html from the zip file\n"
        },
        {
            "cell_type": "code",
            "execution_count": 98,
            "metadata": {
                "scrolled": true
            },
            "outputs": [
                {
                    "data": {
                        "text/html": "<div style=\"width:100%;\"><div style=\"position:relative;width:100%;height:0;padding-bottom:60%;\"><iframe src=\"about:blank\" style=\"position:absolute;width:100%;height:100%;left:0;top:0;border:none !important;\" data-html=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 onload=\"this.contentDocument.open();this.contentDocument.write(atob(this.getAttribute('data-html')));this.contentDocument.close();\" allowfullscreen webkitallowfullscreen mozallowfullscreen></iframe></div></div>",
                        "text/plain": "<folium.folium.Map at 0x7f3c9c205cf8>"
                    },
                    "execution_count": 98,
                    "metadata": {},
                    "output_type": "execute_result"
                }
            ],
            "source": "map_york_toronto"
        },
        {
            "cell_type": "code",
            "execution_count": 119,
            "metadata": {},
            "outputs": [
                {
                    "name": "stdout",
                    "output_type": "stream",
                    "text": "My credentails: ***\nCLIENT_ID: YICYHHYOY5L4CARMWOGZ5DDHOKYJMI2FO5ZD5LHVVYO1EIE5\nCLIENT_SECRET:LMMCGWEYUT5W2KG5QF0T2NDJKIJCL3B134SFMGWOXIP5IJWO\n"
                }
            ],
            "source": "#Enter your Foursquare credentials:\nCLIENT_ID = 'YICYHHYOY5L4CARMWOGZ5DDHOKYJMI2FO5ZD5LHVVYO1EIE5' # your Foursquare ID\n\nCLIENT_SECRET = 'LMMCGWEYUT5W2KG5QF0T2NDJKIJCL3B134SFMGWOXIP5IJWO' # your Foursquare Secret\n\nVERSION = '20180605' # Foursquare API version\n\nprint('My credentails: ***')\n\nprint('CLIENT_ID: ' + CLIENT_ID)\nprint('CLIENT_SECRET:' + CLIENT_SECRET)"
        },
        {
            "cell_type": "code",
            "execution_count": 120,
            "metadata": {},
            "outputs": [
                {
                    "name": "stdout",
                    "output_type": "stream",
                    "text": "<class 'pandas.core.frame.DataFrame'>\nRangeIndex: 5 entries, 0 to 4\nData columns (total 5 columns):\nPostalCode       5 non-null object\nBorough          5 non-null object\nNeighbourhood    5 non-null object\nLatitude         5 non-null float64\nLongitude        5 non-null float64\ndtypes: float64(2), object(3)\nmemory usage: 280.0+ bytes\n"
                }
            ],
            "source": "york_data.info()"
        },
        {
            "cell_type": "code",
            "execution_count": 121,
            "metadata": {},
            "outputs": [
                {
                    "name": "stdout",
                    "output_type": "stream",
                    "text": "Latitude and longitude values of Caledonia-Fairbanks are 43.6890256, -79.453512.\n"
                }
            ],
            "source": "neighbourhood_latitude = york_data.loc[0, 'Latitude'] # neighborhood latitude value\nneighbourhood_longitude = york_data.loc[0, 'Longitude'] # neighborhood longitude value\n\nneighbourhood_name = york_data.loc[0, 'Neighbourhood'] # neighborhood name\n\nprint('Latitude and longitude values of {} are {}, {}.'.format(neighbourhood_name, \n                                                               neighbourhood_latitude, \n                                                               neighbourhood_longitude))"
        },
        {
            "cell_type": "code",
            "execution_count": 122,
            "metadata": {},
            "outputs": [
                {
                    "data": {
                        "text/plain": "'https://api.foursquare.com/v2/venues/explore?&client_id=YICYHHYOY5L4CARMWOGZ5DDHOKYJMI2FO5ZD5LHVVYO1EIE5&client_secret=LMMCGWEYUT5W2KG5QF0T2NDJKIJCL3B134SFMGWOXIP5IJWO&v=20180605&ll=43.6890256,-79.453512&radius=500&limit=100'"
                    },
                    "execution_count": 122,
                    "metadata": {},
                    "output_type": "execute_result"
                }
            ],
            "source": "LIMIT = 100 # limit of number of venues returned by Foursquare API\nradius = 500 # define radius\n\n # create URL\nurl = 'https://api.foursquare.com/v2/venues/explore?&client_id={}&client_secret={}&v={}&ll={},{}&radius={}&limit={}'.format(\n    CLIENT_ID, \n    CLIENT_SECRET, \n    VERSION, \n    neighbourhood_latitude, \n    neighbourhood_longitude,\n    radius, \n    LIMIT)\nurl # display URL\n\n"
        },
        {
            "cell_type": "code",
            "execution_count": 123,
            "metadata": {},
            "outputs": [
                {
                    "data": {
                        "text/plain": "{'meta': {'code': 200, 'requestId': '5eb3abce542890001b40802a'},\n 'response': {'warning': {'text': \"There aren't a lot of results near you. Try something more general, reset your filters, or expand the search area.\"},\n  'headerLocation': 'Toronto',\n  'headerFullLocation': 'Toronto',\n  'headerLocationGranularity': 'city',\n  'totalResults': 3,\n  'suggestedBounds': {'ne': {'lat': 43.6935256045, 'lng': -79.44730040297749},\n   'sw': {'lat': 43.6845255955, 'lng': -79.45972359702252}},\n  'groups': [{'type': 'Recommended Places',\n    'name': 'recommended',\n    'items': [{'reasons': {'count': 0,\n       'items': [{'summary': 'This spot is popular',\n         'type': 'general',\n         'reasonName': 'globalInteractionReason'}]},\n      'venue': {'id': '4eb0ca53be7bb9c3eeace0d6',\n       'name': 'Nairn Park',\n       'location': {'address': 'Nairn Ave',\n        'crossStreet': 'Chudleigh Rd',\n        'lat': 43.69065390931841,\n        'lng': -79.4562995791835,\n        'labeledLatLngs': [{'label': 'display',\n          'lat': 43.69065390931841,\n          'lng': -79.4562995791835}],\n        'distance': 288,\n        'cc': 'CA',\n        'city': 'Toronto',\n        'state': 'ON',\n        'country': 'Canada',\n        'formattedAddress': ['Nairn Ave (Chudleigh Rd)',\n         'Toronto ON',\n         'Canada']},\n       'categories': [{'id': '4bf58dd8d48988d163941735',\n         'name': 'Park',\n         'pluralName': 'Parks',\n         'shortName': 'Park',\n         'icon': {'prefix': 'https://ss3.4sqi.net/img/categories_v2/parks_outdoors/park_',\n          'suffix': '.png'},\n         'primary': True}],\n       'photos': {'count': 0, 'groups': []}},\n      'referralId': 'e-0-4eb0ca53be7bb9c3eeace0d6-0'},\n     {'reasons': {'count': 0,\n       'items': [{'summary': 'This spot is popular',\n         'type': 'general',\n         'reasonName': 'globalInteractionReason'}]},\n      'venue': {'id': '4c9e50ca2fb1a1435054e940',\n       'name': 'Maximum Woman',\n       'location': {'address': '2120 Eglinton Avenue West',\n        'lat': 43.69065130310669,\n        'lng': -79.45633320240984,\n        'labeledLatLngs': [{'label': 'display',\n          'lat': 43.69065130310669,\n          'lng': -79.45633320240984}],\n        'distance': 290,\n        'postalCode': 'M6E 2K8',\n        'cc': 'CA',\n        'city': 'Toronto',\n        'state': 'ON',\n        'country': 'Canada',\n        'formattedAddress': ['2120 Eglinton Avenue West',\n         'Toronto ON M6E 2K8',\n         'Canada']},\n       'categories': [{'id': '4bf58dd8d48988d108951735',\n         'name': \"Women's Store\",\n         'pluralName': \"Women's Stores\",\n         'shortName': \"Women's Store\",\n         'icon': {'prefix': 'https://ss3.4sqi.net/img/categories_v2/shops/apparel_women_',\n          'suffix': '.png'},\n         'primary': True}],\n       'photos': {'count': 0, 'groups': []}},\n      'referralId': 'e-0-4c9e50ca2fb1a1435054e940-1'},\n     {'reasons': {'count': 0,\n       'items': [{'summary': 'This spot is popular',\n         'type': 'general',\n         'reasonName': 'globalInteractionReason'}]},\n      'venue': {'id': '4c3f8848e26920a177955be7',\n       'name': 'Fairbanks Pool',\n       'location': {'lat': 43.69195850094914,\n        'lng': -79.44892151240036,\n        'labeledLatLngs': [{'label': 'display',\n          'lat': 43.69195850094914,\n          'lng': -79.44892151240036}],\n        'distance': 493,\n        'cc': 'CA',\n        'city': 'Toronto',\n        'state': 'ON',\n        'country': 'Canada',\n        'formattedAddress': ['Toronto ON', 'Canada']},\n       'categories': [{'id': '4bf58dd8d48988d15e941735',\n         'name': 'Pool',\n         'pluralName': 'Pools',\n         'shortName': 'Pool',\n         'icon': {'prefix': 'https://ss3.4sqi.net/img/categories_v2/parks_outdoors/pool_',\n          'suffix': '.png'},\n         'primary': True}],\n       'photos': {'count': 0, 'groups': []}},\n      'referralId': 'e-0-4c3f8848e26920a177955be7-2'}]}]}}"
                    },
                    "execution_count": 123,
                    "metadata": {},
                    "output_type": "execute_result"
                }
            ],
            "source": "york_results = requests.get(url).json()\nyork_results"
        },
        {
            "cell_type": "markdown",
            "metadata": {},
            "source": "3.4. Get the most common venue categories in each neighborhood\nuse get_category_type function from the Foursquare lab"
        },
        {
            "cell_type": "code",
            "execution_count": 124,
            "metadata": {},
            "outputs": [],
            "source": "# function that extracts the category of the venue\ndef get_category_type(row):\n    try:\n        categories_list = row['categories']\n    except:\n        categories_list = row['venue.categories']\n        \n    if len(categories_list) == 0:\n        return None\n    else:\n        return categories_list[0]['name']"
        },
        {
            "cell_type": "code",
            "execution_count": 125,
            "metadata": {},
            "outputs": [
                {
                    "data": {
                        "text/html": "<div>\n<style scoped>\n    .dataframe tbody tr th:only-of-type {\n        vertical-align: middle;\n    }\n\n    .dataframe tbody tr th {\n        vertical-align: top;\n    }\n\n    .dataframe thead th {\n        text-align: right;\n    }\n</style>\n<table border=\"1\" class=\"dataframe\">\n  <thead>\n    <tr style=\"text-align: right;\">\n      <th></th>\n      <th>name</th>\n      <th>categories</th>\n      <th>lat</th>\n      <th>lng</th>\n    </tr>\n  </thead>\n  <tbody>\n    <tr>\n      <th>0</th>\n      <td>Nairn Park</td>\n      <td>Park</td>\n      <td>43.690654</td>\n      <td>-79.456300</td>\n    </tr>\n    <tr>\n      <th>1</th>\n      <td>Maximum Woman</td>\n      <td>Women's Store</td>\n      <td>43.690651</td>\n      <td>-79.456333</td>\n    </tr>\n    <tr>\n      <th>2</th>\n      <td>Fairbanks Pool</td>\n      <td>Pool</td>\n      <td>43.691959</td>\n      <td>-79.448922</td>\n    </tr>\n  </tbody>\n</table>\n</div>",
                        "text/plain": "             name     categories        lat        lng\n0      Nairn Park           Park  43.690654 -79.456300\n1   Maximum Woman  Women's Store  43.690651 -79.456333\n2  Fairbanks Pool           Pool  43.691959 -79.448922"
                    },
                    "execution_count": 125,
                    "metadata": {},
                    "output_type": "execute_result"
                }
            ],
            "source": "york_venues = york_results['response']['groups'][0]['items']\n    \nyork_nearby_venues = json_normalize(york_venues) # flatten JSON\n\n# filter columns\nyork_filtered_columns = ['venue.name', 'venue.categories', 'venue.location.lat', 'venue.location.lng']\nyork_nearby_venues = york_nearby_venues.loc[:, york_filtered_columns]\n\n# filter the category for each row\nyork_nearby_venues['venue.categories'] = york_nearby_venues.apply(get_category_type, axis=1)\n\n# clean columns\nyork_nearby_venues.columns = [col.split(\".\")[-1] for col in york_nearby_venues.columns]\n\nyork_nearby_venues.head()\n"
        },
        {
            "cell_type": "markdown",
            "metadata": {},
            "source": "Explore Neighborhoods in York:\nLet's create a function to repeat the same process to all the neighborhoods in York\nde"
        },
        {
            "cell_type": "code",
            "execution_count": 127,
            "metadata": {},
            "outputs": [],
            "source": "def getNearbyVenues(names, latitudes, longitudes, radius=500):\n    \n    venues_list=[]\n    for name, lat, lng in zip(names, latitudes, longitudes):\n        print(name)\n            \n        # create the API request URL\n        url = 'https://api.foursquare.com/v2/venues/explore?&client_id={}&client_secret={}&v={}&ll={},{}&radius={}&limit={}'.format(\n            CLIENT_ID, \n            CLIENT_SECRET, \n            VERSION, \n            lat, \n            lng, \n            radius, \n            LIMIT)\n            \n        # make the GET request\n        results = requests.get(url).json()[\"response\"]['groups'][0]['items']\n        \n        # return only relevant information for each nearby venue\n        venues_list.append([(\n            name, \n            lat, \n            lng, \n            v['venue']['name'], \n            v['venue']['location']['lat'], \n            v['venue']['location']['lng'],  \n            v['venue']['categories'][0]['name']) for v in results])\n\n    nearby_venues = pd.DataFrame([item for venue_list in venues_list for item in venue_list])\n    nearby_venues.columns = ['Neighbourhood', \n                  'Neighbourhood Latitude', \n                  'Neighbourhood Longitude', \n                  'Venue', \n                  'Venue Latitude', \n                  'Venue Longitude', \n                  'Venue Category']\n    \n    return(nearby_venues)"
        },
        {
            "cell_type": "code",
            "execution_count": 129,
            "metadata": {},
            "outputs": [
                {
                    "name": "stdout",
                    "output_type": "stream",
                    "text": "Caledonia-Fairbanks\nDel Ray / Mount Dennis / Keelsdale and Silverthorn\nHumewood-Cedarvale\nRunnymede / The Junction North\nWeston\n"
                }
            ],
            "source": "york_venues = getNearbyVenues(names=york_data['Neighbourhood'],\n                                   latitudes=york_data['Latitude'],\n                                   longitudes=york_data['Longitude']\n                                  )"
        },
        {
            "cell_type": "code",
            "execution_count": 130,
            "metadata": {},
            "outputs": [
                {
                    "data": {
                        "text/html": "<div>\n<style scoped>\n    .dataframe tbody tr th:only-of-type {\n        vertical-align: middle;\n    }\n\n    .dataframe tbody tr th {\n        vertical-align: top;\n    }\n\n    .dataframe thead th {\n        text-align: right;\n    }\n</style>\n<table border=\"1\" class=\"dataframe\">\n  <thead>\n    <tr style=\"text-align: right;\">\n      <th></th>\n      <th>Neighbourhood</th>\n      <th>Neighbourhood Latitude</th>\n      <th>Neighbourhood Longitude</th>\n      <th>Venue</th>\n      <th>Venue Latitude</th>\n      <th>Venue Longitude</th>\n      <th>Venue Category</th>\n    </tr>\n  </thead>\n  <tbody>\n    <tr>\n      <th>0</th>\n      <td>Caledonia-Fairbanks</td>\n      <td>43.689026</td>\n      <td>-79.453512</td>\n      <td>Nairn Park</td>\n      <td>43.690654</td>\n      <td>-79.456300</td>\n      <td>Park</td>\n    </tr>\n    <tr>\n      <th>1</th>\n      <td>Caledonia-Fairbanks</td>\n      <td>43.689026</td>\n      <td>-79.453512</td>\n      <td>Maximum Woman</td>\n      <td>43.690651</td>\n      <td>-79.456333</td>\n      <td>Women's Store</td>\n    </tr>\n    <tr>\n      <th>2</th>\n      <td>Caledonia-Fairbanks</td>\n      <td>43.689026</td>\n      <td>-79.453512</td>\n      <td>Fairbanks Pool</td>\n      <td>43.691959</td>\n      <td>-79.448922</td>\n      <td>Pool</td>\n    </tr>\n    <tr>\n      <th>3</th>\n      <td>Del Ray / Mount Dennis / Keelsdale and Silvert...</td>\n      <td>43.691116</td>\n      <td>-79.476013</td>\n      <td>Subway</td>\n      <td>43.690218</td>\n      <td>-79.474050</td>\n      <td>Sandwich Place</td>\n    </tr>\n    <tr>\n      <th>4</th>\n      <td>Del Ray / Mount Dennis / Keelsdale and Silvert...</td>\n      <td>43.691116</td>\n      <td>-79.476013</td>\n      <td>El Nahual</td>\n      <td>43.690763</td>\n      <td>-79.473799</td>\n      <td>Restaurant</td>\n    </tr>\n  </tbody>\n</table>\n</div>",
                        "text/plain": "                                       Neighbourhood  Neighbourhood Latitude  \\\n0                                Caledonia-Fairbanks               43.689026   \n1                                Caledonia-Fairbanks               43.689026   \n2                                Caledonia-Fairbanks               43.689026   \n3  Del Ray / Mount Dennis / Keelsdale and Silvert...               43.691116   \n4  Del Ray / Mount Dennis / Keelsdale and Silvert...               43.691116   \n\n   Neighbourhood Longitude           Venue  Venue Latitude  Venue Longitude  \\\n0               -79.453512      Nairn Park       43.690654       -79.456300   \n1               -79.453512   Maximum Woman       43.690651       -79.456333   \n2               -79.453512  Fairbanks Pool       43.691959       -79.448922   \n3               -79.476013          Subway       43.690218       -79.474050   \n4               -79.476013       El Nahual       43.690763       -79.473799   \n\n   Venue Category  \n0            Park  \n1   Women's Store  \n2            Pool  \n3  Sandwich Place  \n4      Restaurant  "
                    },
                    "execution_count": 130,
                    "metadata": {},
                    "output_type": "execute_result"
                }
            ],
            "source": "york_venues.head()"
        },
        {
            "cell_type": "code",
            "execution_count": 131,
            "metadata": {},
            "outputs": [
                {
                    "name": "stdout",
                    "output_type": "stream",
                    "text": "<class 'pandas.core.frame.DataFrame'>\nRangeIndex: 17 entries, 0 to 16\nData columns (total 7 columns):\nNeighbourhood              17 non-null object\nNeighbourhood Latitude     17 non-null float64\nNeighbourhood Longitude    17 non-null float64\nVenue                      17 non-null object\nVenue Latitude             17 non-null float64\nVenue Longitude            17 non-null float64\nVenue Category             17 non-null object\ndtypes: float64(4), object(3)\nmemory usage: 1.0+ KB\n"
                }
            ],
            "source": "york_venues.info()"
        },
        {
            "cell_type": "code",
            "execution_count": 132,
            "metadata": {},
            "outputs": [
                {
                    "data": {
                        "text/html": "<div>\n<style scoped>\n    .dataframe tbody tr th:only-of-type {\n        vertical-align: middle;\n    }\n\n    .dataframe tbody tr th {\n        vertical-align: top;\n    }\n\n    .dataframe thead th {\n        text-align: right;\n    }\n</style>\n<table border=\"1\" class=\"dataframe\">\n  <thead>\n    <tr style=\"text-align: right;\">\n      <th></th>\n      <th>Neighbourhood Latitude</th>\n      <th>Neighbourhood Longitude</th>\n      <th>Venue</th>\n      <th>Venue Latitude</th>\n      <th>Venue Longitude</th>\n      <th>Venue Category</th>\n    </tr>\n    <tr>\n      <th>Neighbourhood</th>\n      <th></th>\n      <th></th>\n      <th></th>\n      <th></th>\n      <th></th>\n      <th></th>\n    </tr>\n  </thead>\n  <tbody>\n    <tr>\n      <th>Caledonia-Fairbanks</th>\n      <td>3</td>\n      <td>3</td>\n      <td>3</td>\n      <td>3</td>\n      <td>3</td>\n      <td>3</td>\n    </tr>\n    <tr>\n      <th>Del Ray / Mount Dennis / Keelsdale and Silverthorn</th>\n      <td>4</td>\n      <td>4</td>\n      <td>4</td>\n      <td>4</td>\n      <td>4</td>\n      <td>4</td>\n    </tr>\n    <tr>\n      <th>Humewood-Cedarvale</th>\n      <td>4</td>\n      <td>4</td>\n      <td>4</td>\n      <td>4</td>\n      <td>4</td>\n      <td>4</td>\n    </tr>\n    <tr>\n      <th>Runnymede / The Junction North</th>\n      <td>4</td>\n      <td>4</td>\n      <td>4</td>\n      <td>4</td>\n      <td>4</td>\n      <td>4</td>\n    </tr>\n    <tr>\n      <th>Weston</th>\n      <td>2</td>\n      <td>2</td>\n      <td>2</td>\n      <td>2</td>\n      <td>2</td>\n      <td>2</td>\n    </tr>\n  </tbody>\n</table>\n</div>",
                        "text/plain": "                                                    Neighbourhood Latitude  \\\nNeighbourhood                                                                \nCaledonia-Fairbanks                                                      3   \nDel Ray / Mount Dennis / Keelsdale and Silverthorn                       4   \nHumewood-Cedarvale                                                       4   \nRunnymede / The Junction North                                           4   \nWeston                                                                   2   \n\n                                                    Neighbourhood Longitude  \\\nNeighbourhood                                                                 \nCaledonia-Fairbanks                                                       3   \nDel Ray / Mount Dennis / Keelsdale and Silverthorn                        4   \nHumewood-Cedarvale                                                        4   \nRunnymede / The Junction North                                            4   \nWeston                                                                    2   \n\n                                                    Venue  Venue Latitude  \\\nNeighbourhood                                                               \nCaledonia-Fairbanks                                     3               3   \nDel Ray / Mount Dennis / Keelsdale and Silverthorn      4               4   \nHumewood-Cedarvale                                      4               4   \nRunnymede / The Junction North                          4               4   \nWeston                                                  2               2   \n\n                                                    Venue Longitude  \\\nNeighbourhood                                                         \nCaledonia-Fairbanks                                               3   \nDel Ray / Mount Dennis / Keelsdale and Silverthorn                4   \nHumewood-Cedarvale                                                4   \nRunnymede / The Junction North                                    4   \nWeston                                                            2   \n\n                                                    Venue Category  \nNeighbourhood                                                       \nCaledonia-Fairbanks                                              3  \nDel Ray / Mount Dennis / Keelsdale and Silverthorn               4  \nHumewood-Cedarvale                                               4  \nRunnymede / The Junction North                                   4  \nWeston                                                           2  "
                    },
                    "execution_count": 132,
                    "metadata": {},
                    "output_type": "execute_result"
                }
            ],
            "source": "york_venues.groupby('Neighbourhood').count()"
        },
        {
            "cell_type": "code",
            "execution_count": 133,
            "metadata": {},
            "outputs": [
                {
                    "name": "stdout",
                    "output_type": "stream",
                    "text": "There are 13 uniques categories.\n"
                }
            ],
            "source": "print('There are {} uniques categories.'.format(len(york_venues['Venue Category'].unique())))"
        },
        {
            "cell_type": "markdown",
            "metadata": {},
            "source": "3.5. Used these features to group the neighborhoods into clusters\nuse one hot coding to analyse each of the neighbourhoods in York, Torono:"
        },
        {
            "cell_type": "code",
            "execution_count": 134,
            "metadata": {},
            "outputs": [
                {
                    "data": {
                        "text/html": "<div>\n<style scoped>\n    .dataframe tbody tr th:only-of-type {\n        vertical-align: middle;\n    }\n\n    .dataframe tbody tr th {\n        vertical-align: top;\n    }\n\n    .dataframe thead th {\n        text-align: right;\n    }\n</style>\n<table border=\"1\" class=\"dataframe\">\n  <thead>\n    <tr style=\"text-align: right;\">\n      <th></th>\n      <th>Neighbourhood</th>\n      <th>Bus Line</th>\n      <th>Caribbean Restaurant</th>\n      <th>Convenience Store</th>\n      <th>Fast Food Restaurant</th>\n      <th>Field</th>\n      <th>Grocery Store</th>\n      <th>Hockey Arena</th>\n      <th>Park</th>\n      <th>Pool</th>\n      <th>Restaurant</th>\n      <th>Sandwich Place</th>\n      <th>Trail</th>\n      <th>Women's Store</th>\n    </tr>\n  </thead>\n  <tbody>\n    <tr>\n      <th>0</th>\n      <td>Caledonia-Fairbanks</td>\n      <td>0</td>\n      <td>0</td>\n      <td>0</td>\n      <td>0</td>\n      <td>0</td>\n      <td>0</td>\n      <td>0</td>\n      <td>1</td>\n      <td>0</td>\n      <td>0</td>\n      <td>0</td>\n      <td>0</td>\n      <td>0</td>\n    </tr>\n    <tr>\n      <th>1</th>\n      <td>Caledonia-Fairbanks</td>\n      <td>0</td>\n      <td>0</td>\n      <td>0</td>\n      <td>0</td>\n      <td>0</td>\n      <td>0</td>\n      <td>0</td>\n      <td>0</td>\n      <td>0</td>\n      <td>0</td>\n      <td>0</td>\n      <td>0</td>\n      <td>1</td>\n    </tr>\n    <tr>\n      <th>2</th>\n      <td>Caledonia-Fairbanks</td>\n      <td>0</td>\n      <td>0</td>\n      <td>0</td>\n      <td>0</td>\n      <td>0</td>\n      <td>0</td>\n      <td>0</td>\n      <td>0</td>\n      <td>1</td>\n      <td>0</td>\n      <td>0</td>\n      <td>0</td>\n      <td>0</td>\n    </tr>\n    <tr>\n      <th>3</th>\n      <td>Del Ray / Mount Dennis / Keelsdale and Silvert...</td>\n      <td>0</td>\n      <td>0</td>\n      <td>0</td>\n      <td>0</td>\n      <td>0</td>\n      <td>0</td>\n      <td>0</td>\n      <td>0</td>\n      <td>0</td>\n      <td>0</td>\n      <td>1</td>\n      <td>0</td>\n      <td>0</td>\n    </tr>\n    <tr>\n      <th>4</th>\n      <td>Del Ray / Mount Dennis / Keelsdale and Silvert...</td>\n      <td>0</td>\n      <td>0</td>\n      <td>0</td>\n      <td>0</td>\n      <td>0</td>\n      <td>0</td>\n      <td>0</td>\n      <td>0</td>\n      <td>0</td>\n      <td>1</td>\n      <td>0</td>\n      <td>0</td>\n      <td>0</td>\n    </tr>\n  </tbody>\n</table>\n</div>",
                        "text/plain": "                                       Neighbourhood  Bus Line  \\\n0                                Caledonia-Fairbanks         0   \n1                                Caledonia-Fairbanks         0   \n2                                Caledonia-Fairbanks         0   \n3  Del Ray / Mount Dennis / Keelsdale and Silvert...         0   \n4  Del Ray / Mount Dennis / Keelsdale and Silvert...         0   \n\n   Caribbean Restaurant  Convenience Store  Fast Food Restaurant  Field  \\\n0                     0                  0                     0      0   \n1                     0                  0                     0      0   \n2                     0                  0                     0      0   \n3                     0                  0                     0      0   \n4                     0                  0                     0      0   \n\n   Grocery Store  Hockey Arena  Park  Pool  Restaurant  Sandwich Place  Trail  \\\n0              0             0     1     0           0               0      0   \n1              0             0     0     0           0               0      0   \n2              0             0     0     1           0               0      0   \n3              0             0     0     0           0               1      0   \n4              0             0     0     0           1               0      0   \n\n   Women's Store  \n0              0  \n1              1  \n2              0  \n3              0  \n4              0  "
                    },
                    "execution_count": 134,
                    "metadata": {},
                    "output_type": "execute_result"
                }
            ],
            "source": "# one hot encoding\nyork_onehot = pd.get_dummies(york_venues[['Venue Category']], prefix=\"\", prefix_sep=\"\")\n\n# add neighborhood column back to dataframe\nyork_onehot['Neighbourhood'] = york_venues['Neighbourhood'] \n\n# move neighborhood column to the first column\nyork_fixed_columns = [york_onehot.columns[-1]] + list(york_onehot.columns[:-1])\nyork_onehot = york_onehot[york_fixed_columns]\n\nyork_onehot.head()"
        },
        {
            "cell_type": "code",
            "execution_count": 135,
            "metadata": {},
            "outputs": [
                {
                    "data": {
                        "text/html": "<div>\n<style scoped>\n    .dataframe tbody tr th:only-of-type {\n        vertical-align: middle;\n    }\n\n    .dataframe tbody tr th {\n        vertical-align: top;\n    }\n\n    .dataframe thead th {\n        text-align: right;\n    }\n</style>\n<table border=\"1\" class=\"dataframe\">\n  <thead>\n    <tr style=\"text-align: right;\">\n      <th></th>\n      <th>Neighbourhood</th>\n      <th>Bus Line</th>\n      <th>Caribbean Restaurant</th>\n      <th>Convenience Store</th>\n      <th>Fast Food Restaurant</th>\n      <th>Field</th>\n      <th>Grocery Store</th>\n      <th>Hockey Arena</th>\n      <th>Park</th>\n      <th>Pool</th>\n      <th>Restaurant</th>\n      <th>Sandwich Place</th>\n      <th>Trail</th>\n      <th>Women's Store</th>\n    </tr>\n  </thead>\n  <tbody>\n    <tr>\n      <th>0</th>\n      <td>Caledonia-Fairbanks</td>\n      <td>0.00</td>\n      <td>0.00</td>\n      <td>0.00</td>\n      <td>0.00</td>\n      <td>0.00</td>\n      <td>0.00</td>\n      <td>0.00</td>\n      <td>0.333333</td>\n      <td>0.333333</td>\n      <td>0.00</td>\n      <td>0.00</td>\n      <td>0.00</td>\n      <td>0.333333</td>\n    </tr>\n    <tr>\n      <th>1</th>\n      <td>Del Ray / Mount Dennis / Keelsdale and Silvert...</td>\n      <td>0.00</td>\n      <td>0.00</td>\n      <td>0.25</td>\n      <td>0.25</td>\n      <td>0.00</td>\n      <td>0.00</td>\n      <td>0.00</td>\n      <td>0.000000</td>\n      <td>0.000000</td>\n      <td>0.25</td>\n      <td>0.25</td>\n      <td>0.00</td>\n      <td>0.000000</td>\n    </tr>\n    <tr>\n      <th>2</th>\n      <td>Humewood-Cedarvale</td>\n      <td>0.00</td>\n      <td>0.00</td>\n      <td>0.00</td>\n      <td>0.00</td>\n      <td>0.25</td>\n      <td>0.00</td>\n      <td>0.25</td>\n      <td>0.250000</td>\n      <td>0.000000</td>\n      <td>0.00</td>\n      <td>0.00</td>\n      <td>0.25</td>\n      <td>0.000000</td>\n    </tr>\n    <tr>\n      <th>3</th>\n      <td>Runnymede / The Junction North</td>\n      <td>0.25</td>\n      <td>0.25</td>\n      <td>0.25</td>\n      <td>0.00</td>\n      <td>0.00</td>\n      <td>0.25</td>\n      <td>0.00</td>\n      <td>0.000000</td>\n      <td>0.000000</td>\n      <td>0.00</td>\n      <td>0.00</td>\n      <td>0.00</td>\n      <td>0.000000</td>\n    </tr>\n    <tr>\n      <th>4</th>\n      <td>Weston</td>\n      <td>0.00</td>\n      <td>0.00</td>\n      <td>0.50</td>\n      <td>0.00</td>\n      <td>0.00</td>\n      <td>0.00</td>\n      <td>0.00</td>\n      <td>0.500000</td>\n      <td>0.000000</td>\n      <td>0.00</td>\n      <td>0.00</td>\n      <td>0.00</td>\n      <td>0.000000</td>\n    </tr>\n  </tbody>\n</table>\n</div>",
                        "text/plain": "                                       Neighbourhood  Bus Line  \\\n0                                Caledonia-Fairbanks      0.00   \n1  Del Ray / Mount Dennis / Keelsdale and Silvert...      0.00   \n2                                 Humewood-Cedarvale      0.00   \n3                     Runnymede / The Junction North      0.25   \n4                                             Weston      0.00   \n\n   Caribbean Restaurant  Convenience Store  Fast Food Restaurant  Field  \\\n0                  0.00               0.00                  0.00   0.00   \n1                  0.00               0.25                  0.25   0.00   \n2                  0.00               0.00                  0.00   0.25   \n3                  0.25               0.25                  0.00   0.00   \n4                  0.00               0.50                  0.00   0.00   \n\n   Grocery Store  Hockey Arena      Park      Pool  Restaurant  \\\n0           0.00          0.00  0.333333  0.333333        0.00   \n1           0.00          0.00  0.000000  0.000000        0.25   \n2           0.00          0.25  0.250000  0.000000        0.00   \n3           0.25          0.00  0.000000  0.000000        0.00   \n4           0.00          0.00  0.500000  0.000000        0.00   \n\n   Sandwich Place  Trail  Women's Store  \n0            0.00   0.00       0.333333  \n1            0.25   0.00       0.000000  \n2            0.00   0.25       0.000000  \n3            0.00   0.00       0.000000  \n4            0.00   0.00       0.000000  "
                    },
                    "execution_count": 135,
                    "metadata": {},
                    "output_type": "execute_result"
                }
            ],
            "source": "york_grouped = york_onehot.groupby('Neighbourhood').mean().reset_index()\nyork_grouped.head()"
        },
        {
            "cell_type": "code",
            "execution_count": 136,
            "metadata": {},
            "outputs": [
                {
                    "name": "stdout",
                    "output_type": "stream",
                    "text": "----Caledonia-Fairbanks----\n           venue  freq\n0           Park  0.33\n1           Pool  0.33\n2  Women's Store  0.33\n\n\n----Del Ray / Mount Dennis / Keelsdale and Silverthorn----\n                  venue  freq\n0     Convenience Store  0.25\n1  Fast Food Restaurant  0.25\n2            Restaurant  0.25\n\n\n----Humewood-Cedarvale----\n          venue  freq\n0         Field  0.25\n1  Hockey Arena  0.25\n2          Park  0.25\n\n\n----Runnymede / The Junction North----\n                  venue  freq\n0              Bus Line  0.25\n1  Caribbean Restaurant  0.25\n2     Convenience Store  0.25\n\n\n----Weston----\n               venue  freq\n0  Convenience Store   0.5\n1               Park   0.5\n2           Bus Line   0.0\n\n\n"
                }
            ],
            "source": "num_top_venues = 3\n\nfor hood in york_grouped['Neighbourhood']:\n    print(\"----\"+hood+\"----\")\n    york_temp = york_grouped[york_grouped['Neighbourhood'] == hood].T.reset_index()\n    york_temp.columns = ['venue','freq']\n    york_temp = york_temp.iloc[1:]\n    york_temp['freq'] = york_temp['freq'].astype(float)\n    york_temp = york_temp.round({'freq': 2})\n    print(york_temp.sort_values('freq', ascending=False).reset_index(drop=True).head(num_top_venues))\n    print('\\n')"
        },
        {
            "cell_type": "markdown",
            "metadata": {},
            "source": "Let's put that into a pandas dataframe\nwrite a function to sort the venues in descending order."
        },
        {
            "cell_type": "code",
            "execution_count": 137,
            "metadata": {},
            "outputs": [],
            "source": "def return_most_common_venues(row, num_top_venues):\n    row_categories = row.iloc[1:]\n    row_categories_sorted = row_categories.sort_values(ascending=False)\n    \n    return row_categories_sorted.index.values[0:num_top_venues]"
        },
        {
            "cell_type": "code",
            "execution_count": 138,
            "metadata": {},
            "outputs": [
                {
                    "data": {
                        "text/html": "<div>\n<style scoped>\n    .dataframe tbody tr th:only-of-type {\n        vertical-align: middle;\n    }\n\n    .dataframe tbody tr th {\n        vertical-align: top;\n    }\n\n    .dataframe thead th {\n        text-align: right;\n    }\n</style>\n<table border=\"1\" class=\"dataframe\">\n  <thead>\n    <tr style=\"text-align: right;\">\n      <th></th>\n      <th>Neighbourhood</th>\n      <th>1st Most Common Venue</th>\n      <th>2nd Most Common Venue</th>\n      <th>3rd Most Common Venue</th>\n      <th>4th Most Common Venue</th>\n      <th>5th Most Common Venue</th>\n      <th>6th Most Common Venue</th>\n      <th>7th Most Common Venue</th>\n      <th>8th Most Common Venue</th>\n      <th>9th Most Common Venue</th>\n      <th>10th Most Common Venue</th>\n      <th>11th Most Common Venue</th>\n      <th>12th Most Common Venue</th>\n      <th>13th Most Common Venue</th>\n      <th>14th Most Common Venue</th>\n      <th>15th Most Common Venue</th>\n      <th>16th Most Common Venue</th>\n      <th>17th Most Common Venue</th>\n    </tr>\n  </thead>\n  <tbody>\n  </tbody>\n</table>\n</div>",
                        "text/plain": "Empty DataFrame\nColumns: [Neighbourhood, 1st Most Common Venue, 2nd Most Common Venue, 3rd Most Common Venue, 4th Most Common Venue, 5th Most Common Venue, 6th Most Common Venue, 7th Most Common Venue, 8th Most Common Venue, 9th Most Common Venue, 10th Most Common Venue, 11th Most Common Venue, 12th Most Common Venue, 13th Most Common Venue, 14th Most Common Venue, 15th Most Common Venue, 16th Most Common Venue, 17th Most Common Venue]\nIndex: []"
                    },
                    "execution_count": 138,
                    "metadata": {},
                    "output_type": "execute_result"
                }
            ],
            "source": "num_top_venues = 17\n\nindicators = ['st', 'nd', 'rd']\n\n# create columns according to number of top venues\ncolumns = ['Neighbourhood']\nfor ind in np.arange(num_top_venues):\n    try:\n        columns.append('{}{} Most Common Venue'.format(ind+1, indicators[ind]))\n    except:\n        columns.append('{}th Most Common Venue'.format(ind+1))\n\n# create a new dataframe\nyork_neighbourhoods_venues_sorted = pd.DataFrame(columns=columns)\n\nyork_neighbourhoods_venues_sorted"
        },
        {
            "cell_type": "code",
            "execution_count": 139,
            "metadata": {},
            "outputs": [
                {
                    "data": {
                        "text/html": "<div>\n<style scoped>\n    .dataframe tbody tr th:only-of-type {\n        vertical-align: middle;\n    }\n\n    .dataframe tbody tr th {\n        vertical-align: top;\n    }\n\n    .dataframe thead th {\n        text-align: right;\n    }\n</style>\n<table border=\"1\" class=\"dataframe\">\n  <thead>\n    <tr style=\"text-align: right;\">\n      <th></th>\n      <th>Neighbourhood</th>\n      <th>1st Most Common Venue</th>\n      <th>2nd Most Common Venue</th>\n      <th>3rd Most Common Venue</th>\n      <th>4th Most Common Venue</th>\n      <th>5th Most Common Venue</th>\n      <th>6th Most Common Venue</th>\n      <th>7th Most Common Venue</th>\n      <th>8th Most Common Venue</th>\n      <th>9th Most Common Venue</th>\n      <th>10th Most Common Venue</th>\n      <th>11th Most Common Venue</th>\n      <th>12th Most Common Venue</th>\n      <th>13th Most Common Venue</th>\n      <th>14th Most Common Venue</th>\n      <th>15th Most Common Venue</th>\n      <th>16th Most Common Venue</th>\n      <th>17th Most Common Venue</th>\n    </tr>\n  </thead>\n  <tbody>\n    <tr>\n      <th>0</th>\n      <td>Caledonia-Fairbanks</td>\n      <td>NaN</td>\n      <td>NaN</td>\n      <td>NaN</td>\n      <td>NaN</td>\n      <td>NaN</td>\n      <td>NaN</td>\n      <td>NaN</td>\n      <td>NaN</td>\n      <td>NaN</td>\n      <td>NaN</td>\n      <td>NaN</td>\n      <td>NaN</td>\n      <td>NaN</td>\n      <td>NaN</td>\n      <td>NaN</td>\n      <td>NaN</td>\n      <td>NaN</td>\n    </tr>\n    <tr>\n      <th>1</th>\n      <td>Del Ray / Mount Dennis / Keelsdale and Silvert...</td>\n      <td>NaN</td>\n      <td>NaN</td>\n      <td>NaN</td>\n      <td>NaN</td>\n      <td>NaN</td>\n      <td>NaN</td>\n      <td>NaN</td>\n      <td>NaN</td>\n      <td>NaN</td>\n      <td>NaN</td>\n      <td>NaN</td>\n      <td>NaN</td>\n      <td>NaN</td>\n      <td>NaN</td>\n      <td>NaN</td>\n      <td>NaN</td>\n      <td>NaN</td>\n    </tr>\n  </tbody>\n</table>\n</div>",
                        "text/plain": "                                       Neighbourhood 1st Most Common Venue  \\\n0                                Caledonia-Fairbanks                   NaN   \n1  Del Ray / Mount Dennis / Keelsdale and Silvert...                   NaN   \n\n  2nd Most Common Venue 3rd Most Common Venue 4th Most Common Venue  \\\n0                   NaN                   NaN                   NaN   \n1                   NaN                   NaN                   NaN   \n\n  5th Most Common Venue 6th Most Common Venue 7th Most Common Venue  \\\n0                   NaN                   NaN                   NaN   \n1                   NaN                   NaN                   NaN   \n\n  8th Most Common Venue 9th Most Common Venue 10th Most Common Venue  \\\n0                   NaN                   NaN                    NaN   \n1                   NaN                   NaN                    NaN   \n\n  11th Most Common Venue 12th Most Common Venue 13th Most Common Venue  \\\n0                    NaN                    NaN                    NaN   \n1                    NaN                    NaN                    NaN   \n\n  14th Most Common Venue 15th Most Common Venue 16th Most Common Venue  \\\n0                    NaN                    NaN                    NaN   \n1                    NaN                    NaN                    NaN   \n\n  17th Most Common Venue  \n0                    NaN  \n1                    NaN  "
                    },
                    "execution_count": 139,
                    "metadata": {},
                    "output_type": "execute_result"
                }
            ],
            "source": "york_neighbourhoods_venues_sorted['Neighbourhood'] = york_grouped['Neighbourhood']\n\nyork_neighbourhoods_venues_sorted.head(2)"
        },
        {
            "cell_type": "code",
            "execution_count": 141,
            "metadata": {},
            "outputs": [
                {
                    "data": {
                        "text/html": "<div>\n<style scoped>\n    .dataframe tbody tr th:only-of-type {\n        vertical-align: middle;\n    }\n\n    .dataframe tbody tr th {\n        vertical-align: top;\n    }\n\n    .dataframe thead th {\n        text-align: right;\n    }\n</style>\n<table border=\"1\" class=\"dataframe\">\n  <thead>\n    <tr style=\"text-align: right;\">\n      <th></th>\n      <th>Neighbourhood</th>\n      <th>1st Most Common Venue</th>\n      <th>2nd Most Common Venue</th>\n      <th>3rd Most Common Venue</th>\n      <th>4th Most Common Venue</th>\n      <th>5th Most Common Venue</th>\n      <th>6th Most Common Venue</th>\n      <th>7th Most Common Venue</th>\n      <th>8th Most Common Venue</th>\n      <th>9th Most Common Venue</th>\n      <th>10th Most Common Venue</th>\n      <th>11th Most Common Venue</th>\n      <th>12th Most Common Venue</th>\n      <th>13th Most Common Venue</th>\n      <th>14th Most Common Venue</th>\n      <th>15th Most Common Venue</th>\n      <th>16th Most Common Venue</th>\n      <th>17th Most Common Venue</th>\n    </tr>\n  </thead>\n  <tbody>\n    <tr>\n      <th>0</th>\n      <td>Caledonia-Fairbanks</td>\n      <td>NaN</td>\n      <td>NaN</td>\n      <td>NaN</td>\n      <td>NaN</td>\n      <td>NaN</td>\n      <td>NaN</td>\n      <td>NaN</td>\n      <td>NaN</td>\n      <td>NaN</td>\n      <td>NaN</td>\n      <td>NaN</td>\n      <td>NaN</td>\n      <td>NaN</td>\n      <td>NaN</td>\n      <td>NaN</td>\n      <td>NaN</td>\n      <td>NaN</td>\n    </tr>\n    <tr>\n      <th>1</th>\n      <td>Del Ray / Mount Dennis / Keelsdale and Silvert...</td>\n      <td>NaN</td>\n      <td>NaN</td>\n      <td>NaN</td>\n      <td>NaN</td>\n      <td>NaN</td>\n      <td>NaN</td>\n      <td>NaN</td>\n      <td>NaN</td>\n      <td>NaN</td>\n      <td>NaN</td>\n      <td>NaN</td>\n      <td>NaN</td>\n      <td>NaN</td>\n      <td>NaN</td>\n      <td>NaN</td>\n      <td>NaN</td>\n      <td>NaN</td>\n    </tr>\n  </tbody>\n</table>\n</div>",
                        "text/plain": "                                       Neighbourhood 1st Most Common Venue  \\\n0                                Caledonia-Fairbanks                   NaN   \n1  Del Ray / Mount Dennis / Keelsdale and Silvert...                   NaN   \n\n  2nd Most Common Venue 3rd Most Common Venue 4th Most Common Venue  \\\n0                   NaN                   NaN                   NaN   \n1                   NaN                   NaN                   NaN   \n\n  5th Most Common Venue 6th Most Common Venue 7th Most Common Venue  \\\n0                   NaN                   NaN                   NaN   \n1                   NaN                   NaN                   NaN   \n\n  8th Most Common Venue 9th Most Common Venue 10th Most Common Venue  \\\n0                   NaN                   NaN                    NaN   \n1                   NaN                   NaN                    NaN   \n\n  11th Most Common Venue 12th Most Common Venue 13th Most Common Venue  \\\n0                    NaN                    NaN                    NaN   \n1                    NaN                    NaN                    NaN   \n\n  14th Most Common Venue 15th Most Common Venue 16th Most Common Venue  \\\n0                    NaN                    NaN                    NaN   \n1                    NaN                    NaN                    NaN   \n\n  17th Most Common Venue  \n0                    NaN  \n1                    NaN  "
                    },
                    "execution_count": 141,
                    "metadata": {},
                    "output_type": "execute_result"
                }
            ],
            "source": "york_neighbourhoods_venues_sorted['Neighbourhood'] = york_grouped['Neighbourhood']\n\nyork_neighbourhoods_venues_sorted.head(2)"
        },
        {
            "cell_type": "markdown",
            "metadata": {},
            "source": "3.4. Used the Folium library to generated maps to visualize neighborhoods on and how they cluster together.\nRun k-means to cluster the neighborhood into 2 clusters.\n"
        },
        {
            "cell_type": "code",
            "execution_count": 143,
            "metadata": {},
            "outputs": [
                {
                    "data": {
                        "text/plain": "array([0, 1, 0, 1, 0], dtype=int32)"
                    },
                    "execution_count": 143,
                    "metadata": {},
                    "output_type": "execute_result"
                }
            ],
            "source": "# set number of clusters\nkclusters = 2\n\nyork_grouped_clustering = york_grouped.drop('Neighbourhood', 1)\n\n# run k-means clustering\nyork_kmeans = KMeans(n_clusters=kclusters, random_state=0).fit(york_grouped_clustering)\n\n# check cluster labels generated for each row in the dataframe\nyork_kmeans.labels_[0:5] "
        },
        {
            "cell_type": "code",
            "execution_count": 144,
            "metadata": {},
            "outputs": [
                {
                    "data": {
                        "text/html": "<div>\n<style scoped>\n    .dataframe tbody tr th:only-of-type {\n        vertical-align: middle;\n    }\n\n    .dataframe tbody tr th {\n        vertical-align: top;\n    }\n\n    .dataframe thead th {\n        text-align: right;\n    }\n</style>\n<table border=\"1\" class=\"dataframe\">\n  <thead>\n    <tr style=\"text-align: right;\">\n      <th></th>\n      <th>PostalCode</th>\n      <th>Borough</th>\n      <th>Neighbourhood</th>\n      <th>Latitude</th>\n      <th>Longitude</th>\n      <th>Cluster Labels</th>\n      <th>1st Most Common Venue</th>\n      <th>2nd Most Common Venue</th>\n      <th>3rd Most Common Venue</th>\n      <th>4th Most Common Venue</th>\n      <th>5th Most Common Venue</th>\n      <th>6th Most Common Venue</th>\n      <th>7th Most Common Venue</th>\n      <th>8th Most Common Venue</th>\n      <th>9th Most Common Venue</th>\n      <th>10th Most Common Venue</th>\n      <th>11th Most Common Venue</th>\n      <th>12th Most Common Venue</th>\n      <th>13th Most Common Venue</th>\n      <th>14th Most Common Venue</th>\n      <th>15th Most Common Venue</th>\n      <th>16th Most Common Venue</th>\n      <th>17th Most Common Venue</th>\n    </tr>\n  </thead>\n  <tbody>\n    <tr>\n      <th>0</th>\n      <td>M6E</td>\n      <td>York</td>\n      <td>Caledonia-Fairbanks</td>\n      <td>43.689026</td>\n      <td>-79.453512</td>\n      <td>0</td>\n      <td>NaN</td>\n      <td>NaN</td>\n      <td>NaN</td>\n      <td>NaN</td>\n      <td>NaN</td>\n      <td>NaN</td>\n      <td>NaN</td>\n      <td>NaN</td>\n      <td>NaN</td>\n      <td>NaN</td>\n      <td>NaN</td>\n      <td>NaN</td>\n      <td>NaN</td>\n      <td>NaN</td>\n      <td>NaN</td>\n      <td>NaN</td>\n      <td>NaN</td>\n    </tr>\n    <tr>\n      <th>1</th>\n      <td>M6M</td>\n      <td>York</td>\n      <td>Del Ray / Mount Dennis / Keelsdale and Silvert...</td>\n      <td>43.691116</td>\n      <td>-79.476013</td>\n      <td>1</td>\n      <td>NaN</td>\n      <td>NaN</td>\n      <td>NaN</td>\n      <td>NaN</td>\n      <td>NaN</td>\n      <td>NaN</td>\n      <td>NaN</td>\n      <td>NaN</td>\n      <td>NaN</td>\n      <td>NaN</td>\n      <td>NaN</td>\n      <td>NaN</td>\n      <td>NaN</td>\n      <td>NaN</td>\n      <td>NaN</td>\n      <td>NaN</td>\n      <td>NaN</td>\n    </tr>\n    <tr>\n      <th>2</th>\n      <td>M6C</td>\n      <td>York</td>\n      <td>Humewood-Cedarvale</td>\n      <td>43.693781</td>\n      <td>-79.428191</td>\n      <td>0</td>\n      <td>NaN</td>\n      <td>NaN</td>\n      <td>NaN</td>\n      <td>NaN</td>\n      <td>NaN</td>\n      <td>NaN</td>\n      <td>NaN</td>\n      <td>NaN</td>\n      <td>NaN</td>\n      <td>NaN</td>\n      <td>NaN</td>\n      <td>NaN</td>\n      <td>NaN</td>\n      <td>NaN</td>\n      <td>NaN</td>\n      <td>NaN</td>\n      <td>NaN</td>\n    </tr>\n    <tr>\n      <th>3</th>\n      <td>M6N</td>\n      <td>York</td>\n      <td>Runnymede / The Junction North</td>\n      <td>43.673185</td>\n      <td>-79.487262</td>\n      <td>1</td>\n      <td>NaN</td>\n      <td>NaN</td>\n      <td>NaN</td>\n      <td>NaN</td>\n      <td>NaN</td>\n      <td>NaN</td>\n      <td>NaN</td>\n      <td>NaN</td>\n      <td>NaN</td>\n      <td>NaN</td>\n      <td>NaN</td>\n      <td>NaN</td>\n      <td>NaN</td>\n      <td>NaN</td>\n      <td>NaN</td>\n      <td>NaN</td>\n      <td>NaN</td>\n    </tr>\n    <tr>\n      <th>4</th>\n      <td>M9N</td>\n      <td>York</td>\n      <td>Weston</td>\n      <td>43.706876</td>\n      <td>-79.518188</td>\n      <td>0</td>\n      <td>NaN</td>\n      <td>NaN</td>\n      <td>NaN</td>\n      <td>NaN</td>\n      <td>NaN</td>\n      <td>NaN</td>\n      <td>NaN</td>\n      <td>NaN</td>\n      <td>NaN</td>\n      <td>NaN</td>\n      <td>NaN</td>\n      <td>NaN</td>\n      <td>NaN</td>\n      <td>NaN</td>\n      <td>NaN</td>\n      <td>NaN</td>\n      <td>NaN</td>\n    </tr>\n  </tbody>\n</table>\n</div>",
                        "text/plain": "  PostalCode Borough                                      Neighbourhood  \\\n0        M6E    York                                Caledonia-Fairbanks   \n1        M6M    York  Del Ray / Mount Dennis / Keelsdale and Silvert...   \n2        M6C    York                                 Humewood-Cedarvale   \n3        M6N    York                     Runnymede / The Junction North   \n4        M9N    York                                             Weston   \n\n    Latitude  Longitude  Cluster Labels 1st Most Common Venue  \\\n0  43.689026 -79.453512               0                   NaN   \n1  43.691116 -79.476013               1                   NaN   \n2  43.693781 -79.428191               0                   NaN   \n3  43.673185 -79.487262               1                   NaN   \n4  43.706876 -79.518188               0                   NaN   \n\n  2nd Most Common Venue 3rd Most Common Venue 4th Most Common Venue  \\\n0                   NaN                   NaN                   NaN   \n1                   NaN                   NaN                   NaN   \n2                   NaN                   NaN                   NaN   \n3                   NaN                   NaN                   NaN   \n4                   NaN                   NaN                   NaN   \n\n  5th Most Common Venue 6th Most Common Venue 7th Most Common Venue  \\\n0                   NaN                   NaN                   NaN   \n1                   NaN                   NaN                   NaN   \n2                   NaN                   NaN                   NaN   \n3                   NaN                   NaN                   NaN   \n4                   NaN                   NaN                   NaN   \n\n  8th Most Common Venue 9th Most Common Venue 10th Most Common Venue  \\\n0                   NaN                   NaN                    NaN   \n1                   NaN                   NaN                    NaN   \n2                   NaN                   NaN                    NaN   \n3                   NaN                   NaN                    NaN   \n4                   NaN                   NaN                    NaN   \n\n  11th Most Common Venue 12th Most Common Venue 13th Most Common Venue  \\\n0                    NaN                    NaN                    NaN   \n1                    NaN                    NaN                    NaN   \n2                    NaN                    NaN                    NaN   \n3                    NaN                    NaN                    NaN   \n4                    NaN                    NaN                    NaN   \n\n  14th Most Common Venue 15th Most Common Venue 16th Most Common Venue  \\\n0                    NaN                    NaN                    NaN   \n1                    NaN                    NaN                    NaN   \n2                    NaN                    NaN                    NaN   \n3                    NaN                    NaN                    NaN   \n4                    NaN                    NaN                    NaN   \n\n  17th Most Common Venue  \n0                    NaN  \n1                    NaN  \n2                    NaN  \n3                    NaN  \n4                    NaN  "
                    },
                    "execution_count": 144,
                    "metadata": {},
                    "output_type": "execute_result"
                }
            ],
            "source": "# add clustering labels\nyork_neighbourhoods_venues_sorted.insert(0, 'Cluster Labels', york_kmeans.labels_)\n\nyork_merged = york_data\n\n# merge toronto_grouped with toronto_data to add latitude/longitude for each neighborhood\nyork_merged = york_merged.join(york_neighbourhoods_venues_sorted.set_index('Neighbourhood'), on='Neighbourhood')\n\nyork_merged"
        },
        {
            "cell_type": "code",
            "execution_count": 145,
            "metadata": {},
            "outputs": [],
            "source": "# create map\nyork_map_clusters = folium.Map(location=[latitude, longitude], zoom_start=11)\n\n# set color scheme for the clusters\nx = np.arange(kclusters)\nys = [i + x + (i*x)**2 for i in range(kclusters)]\ncolors_array = cm.rainbow(np.linspace(0, 1, len(ys)))\nrainbow = [colors.rgb2hex(i) for i in colors_array]\n\n# add markers to the map\nmarkers_colors = []\nfor lat, lon, poi, cluster in zip(york_merged['Latitude'], york_merged['Longitude'], york_merged['Neighbourhood'], york_merged['Cluster Labels']):\n    label = folium.Popup(str(poi) + ' Cluster ' + str(cluster), parse_html=True)\n    folium.CircleMarker(\n        [lat, lon],\n        radius=5,\n        popup=label,\n        color=rainbow[cluster-1],\n        fill=True,\n        fill_color=rainbow[cluster-1],\n        fill_opacity=0.7).add_to(york_map_clusters)\n       \nyork_map_clusters\n\nyork_map_clusters.save(\"york_map_clusters.html\")\n\n#open york_map_clusters.html in browser\n#if you cannot generate the maps open PGA_map_*.html from the zip file"
        },
        {
            "cell_type": "code",
            "execution_count": 146,
            "metadata": {},
            "outputs": [
                {
                    "data": {
                        "text/html": "<div style=\"width:100%;\"><div style=\"position:relative;width:100%;height:0;padding-bottom:60%;\"><iframe src=\"about:blank\" style=\"position:absolute;width:100%;height:100%;left:0;top:0;border:none !important;\" data-html=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 onload=\"this.contentDocument.open();this.contentDocument.write(atob(this.getAttribute('data-html')));this.contentDocument.close();\" allowfullscreen webkitallowfullscreen mozallowfullscreen></iframe></div></div>",
                        "text/plain": "<folium.folium.Map at 0x7f3c9c1b1320>"
                    },
                    "execution_count": 146,
                    "metadata": {},
                    "output_type": "execute_result"
                }
            ],
            "source": "york_map_clusters"
        },
        {
            "cell_type": "markdown",
            "metadata": {},
            "source": "Examine Clusters\nexamen & determine the discriminating venue categories that distinguish each cluster.\nRed Cluster:"
        },
        {
            "cell_type": "code",
            "execution_count": 147,
            "metadata": {},
            "outputs": [
                {
                    "data": {
                        "text/html": "<div>\n<style scoped>\n    .dataframe tbody tr th:only-of-type {\n        vertical-align: middle;\n    }\n\n    .dataframe tbody tr th {\n        vertical-align: top;\n    }\n\n    .dataframe thead th {\n        text-align: right;\n    }\n</style>\n<table border=\"1\" class=\"dataframe\">\n  <thead>\n    <tr style=\"text-align: right;\">\n      <th></th>\n      <th>Borough</th>\n      <th>Cluster Labels</th>\n      <th>1st Most Common Venue</th>\n      <th>2nd Most Common Venue</th>\n      <th>3rd Most Common Venue</th>\n      <th>4th Most Common Venue</th>\n      <th>5th Most Common Venue</th>\n      <th>6th Most Common Venue</th>\n      <th>7th Most Common Venue</th>\n      <th>8th Most Common Venue</th>\n      <th>9th Most Common Venue</th>\n      <th>10th Most Common Venue</th>\n      <th>11th Most Common Venue</th>\n      <th>12th Most Common Venue</th>\n      <th>13th Most Common Venue</th>\n      <th>14th Most Common Venue</th>\n      <th>15th Most Common Venue</th>\n      <th>16th Most Common Venue</th>\n      <th>17th Most Common Venue</th>\n    </tr>\n  </thead>\n  <tbody>\n    <tr>\n      <th>0</th>\n      <td>York</td>\n      <td>0</td>\n      <td>NaN</td>\n      <td>NaN</td>\n      <td>NaN</td>\n      <td>NaN</td>\n      <td>NaN</td>\n      <td>NaN</td>\n      <td>NaN</td>\n      <td>NaN</td>\n      <td>NaN</td>\n      <td>NaN</td>\n      <td>NaN</td>\n      <td>NaN</td>\n      <td>NaN</td>\n      <td>NaN</td>\n      <td>NaN</td>\n      <td>NaN</td>\n      <td>NaN</td>\n    </tr>\n    <tr>\n      <th>2</th>\n      <td>York</td>\n      <td>0</td>\n      <td>NaN</td>\n      <td>NaN</td>\n      <td>NaN</td>\n      <td>NaN</td>\n      <td>NaN</td>\n      <td>NaN</td>\n      <td>NaN</td>\n      <td>NaN</td>\n      <td>NaN</td>\n      <td>NaN</td>\n      <td>NaN</td>\n      <td>NaN</td>\n      <td>NaN</td>\n      <td>NaN</td>\n      <td>NaN</td>\n      <td>NaN</td>\n      <td>NaN</td>\n    </tr>\n    <tr>\n      <th>4</th>\n      <td>York</td>\n      <td>0</td>\n      <td>NaN</td>\n      <td>NaN</td>\n      <td>NaN</td>\n      <td>NaN</td>\n      <td>NaN</td>\n      <td>NaN</td>\n      <td>NaN</td>\n      <td>NaN</td>\n      <td>NaN</td>\n      <td>NaN</td>\n      <td>NaN</td>\n      <td>NaN</td>\n      <td>NaN</td>\n      <td>NaN</td>\n      <td>NaN</td>\n      <td>NaN</td>\n      <td>NaN</td>\n    </tr>\n  </tbody>\n</table>\n</div>",
                        "text/plain": "  Borough  Cluster Labels 1st Most Common Venue 2nd Most Common Venue  \\\n0    York               0                   NaN                   NaN   \n2    York               0                   NaN                   NaN   \n4    York               0                   NaN                   NaN   \n\n  3rd Most Common Venue 4th Most Common Venue 5th Most Common Venue  \\\n0                   NaN                   NaN                   NaN   \n2                   NaN                   NaN                   NaN   \n4                   NaN                   NaN                   NaN   \n\n  6th Most Common Venue 7th Most Common Venue 8th Most Common Venue  \\\n0                   NaN                   NaN                   NaN   \n2                   NaN                   NaN                   NaN   \n4                   NaN                   NaN                   NaN   \n\n  9th Most Common Venue 10th Most Common Venue 11th Most Common Venue  \\\n0                   NaN                    NaN                    NaN   \n2                   NaN                    NaN                    NaN   \n4                   NaN                    NaN                    NaN   \n\n  12th Most Common Venue 13th Most Common Venue 14th Most Common Venue  \\\n0                    NaN                    NaN                    NaN   \n2                    NaN                    NaN                    NaN   \n4                    NaN                    NaN                    NaN   \n\n  15th Most Common Venue 16th Most Common Venue 17th Most Common Venue  \n0                    NaN                    NaN                    NaN  \n2                    NaN                    NaN                    NaN  \n4                    NaN                    NaN                    NaN  "
                    },
                    "execution_count": 147,
                    "metadata": {},
                    "output_type": "execute_result"
                }
            ],
            "source": "york_merged.loc[york_merged['Cluster Labels'] == 0, york_merged.columns[[1] + list(range(5, york_merged.shape[1]))]]"
        },
        {
            "cell_type": "code",
            "execution_count": 148,
            "metadata": {},
            "outputs": [
                {
                    "data": {
                        "text/html": "<div>\n<style scoped>\n    .dataframe tbody tr th:only-of-type {\n        vertical-align: middle;\n    }\n\n    .dataframe tbody tr th {\n        vertical-align: top;\n    }\n\n    .dataframe thead th {\n        text-align: right;\n    }\n</style>\n<table border=\"1\" class=\"dataframe\">\n  <thead>\n    <tr style=\"text-align: right;\">\n      <th></th>\n      <th>Borough</th>\n      <th>Cluster Labels</th>\n      <th>1st Most Common Venue</th>\n      <th>2nd Most Common Venue</th>\n      <th>3rd Most Common Venue</th>\n      <th>4th Most Common Venue</th>\n      <th>5th Most Common Venue</th>\n      <th>6th Most Common Venue</th>\n      <th>7th Most Common Venue</th>\n      <th>8th Most Common Venue</th>\n      <th>9th Most Common Venue</th>\n      <th>10th Most Common Venue</th>\n      <th>11th Most Common Venue</th>\n      <th>12th Most Common Venue</th>\n      <th>13th Most Common Venue</th>\n      <th>14th Most Common Venue</th>\n      <th>15th Most Common Venue</th>\n      <th>16th Most Common Venue</th>\n      <th>17th Most Common Venue</th>\n    </tr>\n  </thead>\n  <tbody>\n    <tr>\n      <th>1</th>\n      <td>York</td>\n      <td>1</td>\n      <td>NaN</td>\n      <td>NaN</td>\n      <td>NaN</td>\n      <td>NaN</td>\n      <td>NaN</td>\n      <td>NaN</td>\n      <td>NaN</td>\n      <td>NaN</td>\n      <td>NaN</td>\n      <td>NaN</td>\n      <td>NaN</td>\n      <td>NaN</td>\n      <td>NaN</td>\n      <td>NaN</td>\n      <td>NaN</td>\n      <td>NaN</td>\n      <td>NaN</td>\n    </tr>\n    <tr>\n      <th>3</th>\n      <td>York</td>\n      <td>1</td>\n      <td>NaN</td>\n      <td>NaN</td>\n      <td>NaN</td>\n      <td>NaN</td>\n      <td>NaN</td>\n      <td>NaN</td>\n      <td>NaN</td>\n      <td>NaN</td>\n      <td>NaN</td>\n      <td>NaN</td>\n      <td>NaN</td>\n      <td>NaN</td>\n      <td>NaN</td>\n      <td>NaN</td>\n      <td>NaN</td>\n      <td>NaN</td>\n      <td>NaN</td>\n    </tr>\n  </tbody>\n</table>\n</div>",
                        "text/plain": "  Borough  Cluster Labels 1st Most Common Venue 2nd Most Common Venue  \\\n1    York               1                   NaN                   NaN   \n3    York               1                   NaN                   NaN   \n\n  3rd Most Common Venue 4th Most Common Venue 5th Most Common Venue  \\\n1                   NaN                   NaN                   NaN   \n3                   NaN                   NaN                   NaN   \n\n  6th Most Common Venue 7th Most Common Venue 8th Most Common Venue  \\\n1                   NaN                   NaN                   NaN   \n3                   NaN                   NaN                   NaN   \n\n  9th Most Common Venue 10th Most Common Venue 11th Most Common Venue  \\\n1                   NaN                    NaN                    NaN   \n3                   NaN                    NaN                    NaN   \n\n  12th Most Common Venue 13th Most Common Venue 14th Most Common Venue  \\\n1                    NaN                    NaN                    NaN   \n3                    NaN                    NaN                    NaN   \n\n  15th Most Common Venue 16th Most Common Venue 17th Most Common Venue  \n1                    NaN                    NaN                    NaN  \n3                    NaN                    NaN                    NaN  "
                    },
                    "execution_count": 148,
                    "metadata": {},
                    "output_type": "execute_result"
                }
            ],
            "source": "york_merged.loc[york_merged['Cluster Labels'] == 1, york_merged.columns[[1] + list(range(5, york_merged.shape[1]))]]"
        }
    ],
    "metadata": {
        "kernelspec": {
            "display_name": "Python 3.6",
            "language": "python",
            "name": "python3"
        },
        "language_info": {
            "codemirror_mode": {
                "name": "ipython",
                "version": 3
            },
            "file_extension": ".py",
            "mimetype": "text/x-python",
            "name": "python",
            "nbconvert_exporter": "python",
            "pygments_lexer": "ipython3",
            "version": "3.6.9"
        }
    },
    "nbformat": 4,
    "nbformat_minor": 1
}